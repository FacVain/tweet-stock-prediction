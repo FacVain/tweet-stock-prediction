{
 "cells": [
  {
   "cell_type": "code",
   "execution_count": 1,
   "metadata": {},
   "outputs": [],
   "source": [
    "import snscrape.modules.twitter as sntwitter\n",
    "from datetime import date\n",
    "from dateutil.relativedelta import relativedelta\n",
    "import pandas as pd\n",
    "import multiprocessing\n",
    "from pathlib import Path"
   ]
  },
  {
   "cell_type": "code",
   "execution_count": 2,
   "metadata": {},
   "outputs": [],
   "source": [
    "def extract_tweet(since, until, thread_num):\n",
    "    t_query = f'bist100 since:{since.strftime(\"%Y-%m-%d\")} until:{until.strftime(\"%Y-%m-%d\")}'\n",
    "    tweets = []\n",
    "    for tweet in sntwitter.TwitterSearchScraper(t_query).get_items():\n",
    "        tweets.append([tweet.date, tweet.username, tweet.content])\n",
    "    t_df = pd.DataFrame(tweets, columns=['Date', 'User', 'Tweet']).set_index('Date')\n",
    "    filepath = Path(f'./{since.year}/tweet_part{thread_num}.csv')\n",
    "    filepath.parent.mkdir(parents=True, exist_ok=True)\n",
    "    t_df.to_csv(filepath)"
   ]
  },
  {
   "cell_type": "code",
   "execution_count": 4,
   "metadata": {},
   "outputs": [
    {
     "name": "stdout",
     "output_type": "stream",
     "text": [
      "Process 2021-01-01 started\n",
      "Process 2021-03-01 started\n",
      "Process 2021-05-01 started\n",
      "Process 2021-07-01 started\n",
      "Process 2021-09-01 started\n",
      "Process 2021-11-01 started\n"
     ]
    }
   ],
   "source": [
    "init_date = date(2021, 1, 1)\n",
    "end_date = date(2021, 12, 1)\n",
    "pnum = 0\n",
    "processes = []\n",
    "while init_date < end_date:\n",
    "    s_date = init_date + relativedelta(months=2)\n",
    "    processes.append(multiprocessing.Process(target=extract_tweet, args=(init_date, s_date, pnum,)))\n",
    "    processes[pnum].start()\n",
    "    print(f'Process {init_date.strftime(\"%Y-%m-%d\")} started')\n",
    "    init_date = s_date\n",
    "    pnum += 1"
   ]
  },
  {
   "cell_type": "code",
   "execution_count": 7,
   "metadata": {
    "pycharm": {
     "is_executing": true
    }
   },
   "outputs": [],
   "source": [
    "for process in processes:\n",
    "    process.join()"
   ]
  },
  {
   "cell_type": "code",
   "execution_count": null,
   "metadata": {},
   "outputs": [],
   "source": []
  }
 ],
 "metadata": {
  "kernelspec": {
   "display_name": "Python 3 (ipykernel)",
   "language": "python",
   "name": "python3"
  },
  "language_info": {
   "codemirror_mode": {
    "name": "ipython",
    "version": 3
   },
   "file_extension": ".py",
   "mimetype": "text/x-python",
   "name": "python",
   "nbconvert_exporter": "python",
   "pygments_lexer": "ipython3",
   "version": "3.9.13"
  }
 },
 "nbformat": 4,
 "nbformat_minor": 1
}
