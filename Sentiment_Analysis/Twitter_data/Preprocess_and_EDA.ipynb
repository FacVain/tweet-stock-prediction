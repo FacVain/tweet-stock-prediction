{
 "cells": [
  {
   "cell_type": "code",
   "execution_count": 1,
   "id": "0791cb16",
   "metadata": {},
   "outputs": [],
   "source": [
    "import pandas as pd\n",
    "from sklearn.model_selection import train_test_split\n",
    "\"\"\"import matplotlib.pyplot as plt\n",
    "import seaborn as sns\n",
    "from collections import Counter\n",
    "\n",
    "import string\n",
    "import nltk\n",
    "from nltk.corpus import stopwords\n",
    "from TurkishStemmer import TurkishStemmer\"\"\""
   ]
  },
  {
   "cell_type": "code",
   "execution_count": 24,
   "outputs": [
    {
     "data": {
      "text/plain": "                                                text  label\n0  biri bana bu filmde benim anlamadigim bisey ol...      0\n1  ya çocuklar ilk filmin sonunda büyüdüler ya bu...      1\n2  film biraz daha uzun sürse harbi kiyameti göre...      0\n3  pek orjinal bi cinayet yok ama orjinal oyuncul...      0\n4  film tek kelimeyle muhtesemdi heleki sonundaki...      1",
      "text/html": "<div>\n<style scoped>\n    .dataframe tbody tr th:only-of-type {\n        vertical-align: middle;\n    }\n\n    .dataframe tbody tr th {\n        vertical-align: top;\n    }\n\n    .dataframe thead th {\n        text-align: right;\n    }\n</style>\n<table border=\"1\" class=\"dataframe\">\n  <thead>\n    <tr style=\"text-align: right;\">\n      <th></th>\n      <th>text</th>\n      <th>label</th>\n    </tr>\n  </thead>\n  <tbody>\n    <tr>\n      <th>0</th>\n      <td>biri bana bu filmde benim anlamadigim bisey ol...</td>\n      <td>0</td>\n    </tr>\n    <tr>\n      <th>1</th>\n      <td>ya çocuklar ilk filmin sonunda büyüdüler ya bu...</td>\n      <td>1</td>\n    </tr>\n    <tr>\n      <th>2</th>\n      <td>film biraz daha uzun sürse harbi kiyameti göre...</td>\n      <td>0</td>\n    </tr>\n    <tr>\n      <th>3</th>\n      <td>pek orjinal bi cinayet yok ama orjinal oyuncul...</td>\n      <td>0</td>\n    </tr>\n    <tr>\n      <th>4</th>\n      <td>film tek kelimeyle muhtesemdi heleki sonundaki...</td>\n      <td>1</td>\n    </tr>\n  </tbody>\n</table>\n</div>"
     },
     "execution_count": 24,
     "metadata": {},
     "output_type": "execute_result"
    }
   ],
   "source": [
    "bp_data = pd.concat([pd.read_csv('./Beyazperde/train.csv', encoding='windows-1254'), pd.read_csv('./Beyazperde/test.csv', encoding='windows-1254')])[['comment', 'Label']]\n",
    "bp_data.columns = ['text', 'label']\n",
    "bp_data.head()"
   ],
   "metadata": {
    "collapsed": false
   }
  },
  {
   "cell_type": "code",
   "execution_count": 3,
   "outputs": [
    {
     "data": {
      "text/plain": "Label\n0        0.5\n1        0.5\ndtype: float64"
     },
     "execution_count": 3,
     "metadata": {},
     "output_type": "execute_result"
    }
   ],
   "source": [
    "temp = bp_data.value_counts(['Label'], normalize=True, sort=True)\n",
    "temp"
   ],
   "metadata": {
    "collapsed": false
   }
  },
  {
   "cell_type": "code",
   "execution_count": 26,
   "outputs": [
    {
     "data": {
      "text/plain": "                                                text  label\n0                          Servisi hizli valesi var.      1\n1          Yemekleri çok lezzetli, manzara mükemmel.      1\n2  Yemege gelince ise tatsiz tutsuz bir yemekti b...      0\n3                               çorbasi soguk geldi.      0\n4  Bana sushiyi sevdiren tek yer diyebilirim çalı...      1",
      "text/html": "<div>\n<style scoped>\n    .dataframe tbody tr th:only-of-type {\n        vertical-align: middle;\n    }\n\n    .dataframe tbody tr th {\n        vertical-align: top;\n    }\n\n    .dataframe thead th {\n        text-align: right;\n    }\n</style>\n<table border=\"1\" class=\"dataframe\">\n  <thead>\n    <tr style=\"text-align: right;\">\n      <th></th>\n      <th>text</th>\n      <th>label</th>\n    </tr>\n  </thead>\n  <tbody>\n    <tr>\n      <th>0</th>\n      <td>Servisi hizli valesi var.</td>\n      <td>1</td>\n    </tr>\n    <tr>\n      <th>1</th>\n      <td>Yemekleri çok lezzetli, manzara mükemmel.</td>\n      <td>1</td>\n    </tr>\n    <tr>\n      <th>2</th>\n      <td>Yemege gelince ise tatsiz tutsuz bir yemekti b...</td>\n      <td>0</td>\n    </tr>\n    <tr>\n      <th>3</th>\n      <td>çorbasi soguk geldi.</td>\n      <td>0</td>\n    </tr>\n    <tr>\n      <th>4</th>\n      <td>Bana sushiyi sevdiren tek yer diyebilirim çalı...</td>\n      <td>1</td>\n    </tr>\n  </tbody>\n</table>\n</div>"
     },
     "execution_count": 26,
     "metadata": {},
     "output_type": "execute_result"
    }
   ],
   "source": [
    "review_df = pd.concat([pd.read_csv('./Değerlendirme/train.csv', encoding='utf-8'), pd.read_csv('./Değerlendirme/test.csv', encoding='utf-8'),\n",
    "                       pd.read_csv('./Değerlendirme/dev.csv', encoding='utf-8')])[['text', 'label']]\n",
    "review_df.head()"
   ],
   "metadata": {
    "collapsed": false
   }
  },
  {
   "cell_type": "code",
   "execution_count": 5,
   "outputs": [
    {
     "data": {
      "text/plain": "label\n1        0.518742\n0        0.481258\ndtype: float64"
     },
     "execution_count": 5,
     "metadata": {},
     "output_type": "execute_result"
    }
   ],
   "source": [
    "temp = review_df.value_counts(['label'], normalize=True, sort=True)\n",
    "temp"
   ],
   "metadata": {
    "collapsed": false
   }
  },
  {
   "cell_type": "code",
   "execution_count": 27,
   "outputs": [
    {
     "data": {
      "text/plain": "                                                text  label\n0  Gerçekten sizin hikayelerinizi izleyerek mi ye...      1\n1            @USER Çoook çok bi baklava bi sen zaten      1\n2  1) Sn. DÜKEL; Atatürk'ün, Karma E. M. ile başl...      1\n3  Konfederasyonumuzun Aile ve Sosyal Politikalar...      1\n4  Hakemler tarih yazıyorlar / 9 kişiye karşı 3-2...      0",
      "text/html": "<div>\n<style scoped>\n    .dataframe tbody tr th:only-of-type {\n        vertical-align: middle;\n    }\n\n    .dataframe tbody tr th {\n        vertical-align: top;\n    }\n\n    .dataframe thead th {\n        text-align: right;\n    }\n</style>\n<table border=\"1\" class=\"dataframe\">\n  <thead>\n    <tr style=\"text-align: right;\">\n      <th></th>\n      <th>text</th>\n      <th>label</th>\n    </tr>\n  </thead>\n  <tbody>\n    <tr>\n      <th>0</th>\n      <td>Gerçekten sizin hikayelerinizi izleyerek mi ye...</td>\n      <td>1</td>\n    </tr>\n    <tr>\n      <th>1</th>\n      <td>@USER Çoook çok bi baklava bi sen zaten</td>\n      <td>1</td>\n    </tr>\n    <tr>\n      <th>2</th>\n      <td>1) Sn. DÜKEL; Atatürk'ün, Karma E. M. ile başl...</td>\n      <td>1</td>\n    </tr>\n    <tr>\n      <th>3</th>\n      <td>Konfederasyonumuzun Aile ve Sosyal Politikalar...</td>\n      <td>1</td>\n    </tr>\n    <tr>\n      <th>4</th>\n      <td>Hakemler tarih yazıyorlar / 9 kişiye karşı 3-2...</td>\n      <td>0</td>\n    </tr>\n  </tbody>\n</table>\n</div>"
     },
     "execution_count": 27,
     "metadata": {},
     "output_type": "execute_result"
    }
   ],
   "source": [
    "hate_df = pd.concat([pd.read_csv('./Hate/train.csv', encoding='utf-8'), pd.read_csv('./Hate/test.csv', encoding='utf-8'),\n",
    "                     pd.read_csv('./Hate/valid.csv', encoding='utf-8')])[['text', 'label']]\n",
    "hate_df['label'].replace({0:1, 1:0}, inplace=True)\n",
    "hate_df.head()"
   ],
   "metadata": {
    "collapsed": false
   }
  },
  {
   "cell_type": "code",
   "execution_count": 7,
   "outputs": [
    {
     "data": {
      "text/plain": "label\n0        0.536308\n1        0.463692\ndtype: float64"
     },
     "execution_count": 7,
     "metadata": {},
     "output_type": "execute_result"
    }
   ],
   "source": [
    "temp = hate_df.value_counts(['label'], normalize=True, sort=True)\n",
    "temp"
   ],
   "metadata": {
    "collapsed": false
   }
  },
  {
   "cell_type": "code",
   "execution_count": 21,
   "outputs": [
    {
     "data": {
      "text/plain": "                                                text  label\n0            alti kendine erkegim demesin diyen kasa      0\n1  feminen bir erkek neden olamiyorsun neden ben ...      0\n2  kizlar boyle tirnagi olmayan da kendine kizim ...      0\n3  sik olmali kadin dedigingelisi gulusu bakisi d...      0\n4   cokta de demek icin erkek olmak isterdim cok ...      0",
      "text/html": "<div>\n<style scoped>\n    .dataframe tbody tr th:only-of-type {\n        vertical-align: middle;\n    }\n\n    .dataframe tbody tr th {\n        vertical-align: top;\n    }\n\n    .dataframe thead th {\n        text-align: right;\n    }\n</style>\n<table border=\"1\" class=\"dataframe\">\n  <thead>\n    <tr style=\"text-align: right;\">\n      <th></th>\n      <th>text</th>\n      <th>label</th>\n    </tr>\n  </thead>\n  <tbody>\n    <tr>\n      <th>0</th>\n      <td>alti kendine erkegim demesin diyen kasa</td>\n      <td>0</td>\n    </tr>\n    <tr>\n      <th>1</th>\n      <td>feminen bir erkek neden olamiyorsun neden ben ...</td>\n      <td>0</td>\n    </tr>\n    <tr>\n      <th>2</th>\n      <td>kizlar boyle tirnagi olmayan da kendine kizim ...</td>\n      <td>0</td>\n    </tr>\n    <tr>\n      <th>3</th>\n      <td>sik olmali kadin dedigingelisi gulusu bakisi d...</td>\n      <td>0</td>\n    </tr>\n    <tr>\n      <th>4</th>\n      <td>cokta de demek icin erkek olmak isterdim cok ...</td>\n      <td>0</td>\n    </tr>\n  </tbody>\n</table>\n</div>"
     },
     "execution_count": 21,
     "metadata": {},
     "output_type": "execute_result"
    }
   ],
   "source": [
    "hate2_df = pd.read_csv('./Hate2/clean_data.csv', encoding='utf-8')[['clean_data', 'label']]\n",
    "hate2_df['label'] = 0\n",
    "hate2_df.rename(columns={'clean_data':'text'}, inplace=True)\n",
    "hate2_df.head()"
   ],
   "metadata": {
    "collapsed": false
   }
  },
  {
   "cell_type": "code",
   "execution_count": 30,
   "outputs": [
    {
     "data": {
      "text/plain": "                                                text  label\n0  Allah'ım çıldıracağım. Yemin ederim çıldıracağ...      0\n1  site ne zaman çalıştıda ürün stokları bitti di...      0\n2    Sebebi neydi ki diye bağıracağım şimdi az kaldı      0\n3  Black friday ne amk bu yıl çıkardınız bu bokud...      0\n4  kısa kısa cevaplar vericeksen niye yazıyorsun ...      0",
      "text/html": "<div>\n<style scoped>\n    .dataframe tbody tr th:only-of-type {\n        vertical-align: middle;\n    }\n\n    .dataframe tbody tr th {\n        vertical-align: top;\n    }\n\n    .dataframe thead th {\n        text-align: right;\n    }\n</style>\n<table border=\"1\" class=\"dataframe\">\n  <thead>\n    <tr style=\"text-align: right;\">\n      <th></th>\n      <th>text</th>\n      <th>label</th>\n    </tr>\n  </thead>\n  <tbody>\n    <tr>\n      <th>0</th>\n      <td>Allah'ım çıldıracağım. Yemin ederim çıldıracağ...</td>\n      <td>0</td>\n    </tr>\n    <tr>\n      <th>1</th>\n      <td>site ne zaman çalıştıda ürün stokları bitti di...</td>\n      <td>0</td>\n    </tr>\n    <tr>\n      <th>2</th>\n      <td>Sebebi neydi ki diye bağıracağım şimdi az kaldı</td>\n      <td>0</td>\n    </tr>\n    <tr>\n      <th>3</th>\n      <td>Black friday ne amk bu yıl çıkardınız bu bokud...</td>\n      <td>0</td>\n    </tr>\n    <tr>\n      <th>4</th>\n      <td>kısa kısa cevaplar vericeksen niye yazıyorsun ...</td>\n      <td>0</td>\n    </tr>\n  </tbody>\n</table>\n</div>"
     },
     "execution_count": 30,
     "metadata": {},
     "output_type": "execute_result"
    }
   ],
   "source": [
    "tweet_1 = pd.read_csv('./turkish-tweets-sentiment-analysis-main/data/TurkishTweets.csv')\n",
    "tweet_1['Etiket'].replace({\"kızgın\": 0, \"korku\": 0, \"mutlu\": 1,\n",
    "                        \"surpriz\": 1, \"üzgün\": 0}, inplace=True)\n",
    "tweet_1.rename(columns={'Tweet':'text', 'Etiket':'label'}, inplace=True)\n",
    "tweet_1.head()"
   ],
   "metadata": {
    "collapsed": false
   }
  },
  {
   "cell_type": "code",
   "execution_count": 31,
   "outputs": [
    {
     "data": {
      "text/plain": "label\n0        0.6\n1        0.4\ndtype: float64"
     },
     "execution_count": 31,
     "metadata": {},
     "output_type": "execute_result"
    }
   ],
   "source": [
    "temp = tweet_1.value_counts(['label'], normalize=True, sort=True)\n",
    "temp"
   ],
   "metadata": {
    "collapsed": false
   }
  },
  {
   "cell_type": "code",
   "execution_count": 34,
   "outputs": [
    {
     "data": {
      "text/plain": "                                                    text  label\n0                          Doğa ağzımıza sıçsa hakkı var      0\n1      Anne bir sanatçıdır, en güzel eseri de yavrusu...      1\n2       ibrahimin oğlunu koruyan Tanrı’ya da ben sokayım      0\n3            Köpeğim suratına sıçsın senin namussuz karı      0\n4                    Ben söğüşledim, birazda sen söğüşle      0\n...                                                  ...    ...\n11106  eğer gidip bir aynaya bakarsanız orada en büyü...      0\n11107                           Asıl fahişe senin beynin      0\n11108     Sorsak bir numaralı müslümandır sıfatsız herif      0\n11109                          surata bak lenetlenmiş oç      0\n11110  Allah’ ın din tüccarları sizi. Bir insana ifti...      0\n\n[11111 rows x 2 columns]",
      "text/html": "<div>\n<style scoped>\n    .dataframe tbody tr th:only-of-type {\n        vertical-align: middle;\n    }\n\n    .dataframe tbody tr th {\n        vertical-align: top;\n    }\n\n    .dataframe thead th {\n        text-align: right;\n    }\n</style>\n<table border=\"1\" class=\"dataframe\">\n  <thead>\n    <tr style=\"text-align: right;\">\n      <th></th>\n      <th>text</th>\n      <th>label</th>\n    </tr>\n  </thead>\n  <tbody>\n    <tr>\n      <th>0</th>\n      <td>Doğa ağzımıza sıçsa hakkı var</td>\n      <td>0</td>\n    </tr>\n    <tr>\n      <th>1</th>\n      <td>Anne bir sanatçıdır, en güzel eseri de yavrusu...</td>\n      <td>1</td>\n    </tr>\n    <tr>\n      <th>2</th>\n      <td>ibrahimin oğlunu koruyan Tanrı’ya da ben sokayım</td>\n      <td>0</td>\n    </tr>\n    <tr>\n      <th>3</th>\n      <td>Köpeğim suratına sıçsın senin namussuz karı</td>\n      <td>0</td>\n    </tr>\n    <tr>\n      <th>4</th>\n      <td>Ben söğüşledim, birazda sen söğüşle</td>\n      <td>0</td>\n    </tr>\n    <tr>\n      <th>...</th>\n      <td>...</td>\n      <td>...</td>\n    </tr>\n    <tr>\n      <th>11106</th>\n      <td>eğer gidip bir aynaya bakarsanız orada en büyü...</td>\n      <td>0</td>\n    </tr>\n    <tr>\n      <th>11107</th>\n      <td>Asıl fahişe senin beynin</td>\n      <td>0</td>\n    </tr>\n    <tr>\n      <th>11108</th>\n      <td>Sorsak bir numaralı müslümandır sıfatsız herif</td>\n      <td>0</td>\n    </tr>\n    <tr>\n      <th>11109</th>\n      <td>surata bak lenetlenmiş oç</td>\n      <td>0</td>\n    </tr>\n    <tr>\n      <th>11110</th>\n      <td>Allah’ ın din tüccarları sizi. Bir insana ifti...</td>\n      <td>0</td>\n    </tr>\n  </tbody>\n</table>\n<p>11111 rows × 2 columns</p>\n</div>"
     },
     "execution_count": 34,
     "metadata": {},
     "output_type": "execute_result"
    }
   ],
   "source": [
    "tweet_2 = pd.read_csv('./turkish-tweets-sentiment-analysis-main/data/tweetset.csv', encoding='windows-1254')[['Paylaşım', 'Tip']]\n",
    "tweet_2['Tip'].replace({\"Pozitif\": 1, \" Negatif\": 0, \"Negatif\": 0 }, inplace=True)\n",
    "tweet_2.rename(columns={'Paylaşım':'text', 'Tip':'label'}, inplace=True)\n",
    "tweet_2 #Looks"
   ],
   "metadata": {
    "collapsed": false
   }
  },
  {
   "cell_type": "code",
   "execution_count": 36,
   "outputs": [],
   "source": [
    "tweet_1.to_csv('tweets.csv')"
   ],
   "metadata": {
    "collapsed": false
   }
  },
  {
   "cell_type": "code",
   "execution_count": 37,
   "outputs": [
    {
     "data": {
      "text/plain": "                                                  text  label\n0    Allah'ım çıldıracağım. Yemin ederim çıldıracağ...      0\n1    site ne zaman çalıştıda ürün stokları bitti di...      0\n2      Sebebi neydi ki diye bağıracağım şimdi az kaldı      0\n3    Black friday ne amk bu yıl çıkardınız bu bokud...      0\n4    kısa kısa cevaplar vericeksen niye yazıyorsun ...      0\n..                                                 ...    ...\n100  Sosyal medyada ünlü olduktan sonra kaliteyi dü...      0\n101         Dekorasyonu renkleri cok sicak ve sevimli.      1\n102  Yenmeyecek kadar kötü kebaplari, ukala garsonu...      0\n103  Etler malzeme, marinasyon, pişirme ve sunum aç...      1\n104             Gece, gündüz, her zaman için öneririm.      1\n\n[19464 rows x 2 columns]",
      "text/html": "<div>\n<style scoped>\n    .dataframe tbody tr th:only-of-type {\n        vertical-align: middle;\n    }\n\n    .dataframe tbody tr th {\n        vertical-align: top;\n    }\n\n    .dataframe thead th {\n        text-align: right;\n    }\n</style>\n<table border=\"1\" class=\"dataframe\">\n  <thead>\n    <tr style=\"text-align: right;\">\n      <th></th>\n      <th>text</th>\n      <th>label</th>\n    </tr>\n  </thead>\n  <tbody>\n    <tr>\n      <th>0</th>\n      <td>Allah'ım çıldıracağım. Yemin ederim çıldıracağ...</td>\n      <td>0</td>\n    </tr>\n    <tr>\n      <th>1</th>\n      <td>site ne zaman çalıştıda ürün stokları bitti di...</td>\n      <td>0</td>\n    </tr>\n    <tr>\n      <th>2</th>\n      <td>Sebebi neydi ki diye bağıracağım şimdi az kaldı</td>\n      <td>0</td>\n    </tr>\n    <tr>\n      <th>3</th>\n      <td>Black friday ne amk bu yıl çıkardınız bu bokud...</td>\n      <td>0</td>\n    </tr>\n    <tr>\n      <th>4</th>\n      <td>kısa kısa cevaplar vericeksen niye yazıyorsun ...</td>\n      <td>0</td>\n    </tr>\n    <tr>\n      <th>...</th>\n      <td>...</td>\n      <td>...</td>\n    </tr>\n    <tr>\n      <th>100</th>\n      <td>Sosyal medyada ünlü olduktan sonra kaliteyi dü...</td>\n      <td>0</td>\n    </tr>\n    <tr>\n      <th>101</th>\n      <td>Dekorasyonu renkleri cok sicak ve sevimli.</td>\n      <td>1</td>\n    </tr>\n    <tr>\n      <th>102</th>\n      <td>Yenmeyecek kadar kötü kebaplari, ukala garsonu...</td>\n      <td>0</td>\n    </tr>\n    <tr>\n      <th>103</th>\n      <td>Etler malzeme, marinasyon, pişirme ve sunum aç...</td>\n      <td>1</td>\n    </tr>\n    <tr>\n      <th>104</th>\n      <td>Gece, gündüz, her zaman için öneririm.</td>\n      <td>1</td>\n    </tr>\n  </tbody>\n</table>\n<p>19464 rows × 2 columns</p>\n</div>"
     },
     "execution_count": 37,
     "metadata": {},
     "output_type": "execute_result"
    }
   ],
   "source": [
    "conc = pd.concat([tweet_1, bp_data, review_df])\n",
    "conc"
   ],
   "metadata": {
    "collapsed": false
   }
  },
  {
   "cell_type": "code",
   "execution_count": 38,
   "outputs": [],
   "source": [
    "conc.to_csv(\"three_source.csv\")"
   ],
   "metadata": {
    "collapsed": false
   }
  }
 ],
 "metadata": {
  "kernelspec": {
   "display_name": "Python 3 (ipykernel)",
   "language": "python",
   "name": "python3"
  },
  "language_info": {
   "codemirror_mode": {
    "name": "ipython",
    "version": 3
   },
   "file_extension": ".py",
   "mimetype": "text/x-python",
   "name": "python",
   "nbconvert_exporter": "python",
   "pygments_lexer": "ipython3",
   "version": "3.9.13"
  }
 },
 "nbformat": 4,
 "nbformat_minor": 5
}
