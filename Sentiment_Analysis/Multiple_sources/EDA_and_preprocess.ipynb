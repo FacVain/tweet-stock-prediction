{
 "cells": [
  {
   "cell_type": "code",
   "execution_count": 1,
   "metadata": {
    "collapsed": true
   },
   "outputs": [],
   "source": [
    "import pandas as pd\n",
    "import matplotlib.pyplot as plt\n",
    "import seaborn as sns\n",
    "from collections import Counter\n",
    "\n",
    "import string\n",
    "import nltk\n",
    "from nltk.corpus import stopwords\n",
    "from TurkishStemmer import TurkishStemmer"
   ]
  },
  {
   "cell_type": "code",
   "execution_count": 17,
   "outputs": [
    {
     "data": {
      "text/plain": "                                                text     label         dataset\n0  ürünü hepsiburadadan alalı 3 hafta oldu. orjin...  Positive  urun_yorumlari\n1  ürünlerden çok memnunum, kesinlikle herkese ta...  Positive  urun_yorumlari\n2      hızlı kargo, temiz alışveriş.teşekkür ederim.  Positive  urun_yorumlari\n3               Çünkü aranan tapınak bu bölgededir .      Notr            wiki\n4  bu telefonu başlıca alma nedenlerim ise elimde...  Positive  urun_yorumlari",
      "text/html": "<div>\n<style scoped>\n    .dataframe tbody tr th:only-of-type {\n        vertical-align: middle;\n    }\n\n    .dataframe tbody tr th {\n        vertical-align: top;\n    }\n\n    .dataframe thead th {\n        text-align: right;\n    }\n</style>\n<table border=\"1\" class=\"dataframe\">\n  <thead>\n    <tr style=\"text-align: right;\">\n      <th></th>\n      <th>text</th>\n      <th>label</th>\n      <th>dataset</th>\n    </tr>\n  </thead>\n  <tbody>\n    <tr>\n      <th>0</th>\n      <td>ürünü hepsiburadadan alalı 3 hafta oldu. orjin...</td>\n      <td>Positive</td>\n      <td>urun_yorumlari</td>\n    </tr>\n    <tr>\n      <th>1</th>\n      <td>ürünlerden çok memnunum, kesinlikle herkese ta...</td>\n      <td>Positive</td>\n      <td>urun_yorumlari</td>\n    </tr>\n    <tr>\n      <th>2</th>\n      <td>hızlı kargo, temiz alışveriş.teşekkür ederim.</td>\n      <td>Positive</td>\n      <td>urun_yorumlari</td>\n    </tr>\n    <tr>\n      <th>3</th>\n      <td>Çünkü aranan tapınak bu bölgededir .</td>\n      <td>Notr</td>\n      <td>wiki</td>\n    </tr>\n    <tr>\n      <th>4</th>\n      <td>bu telefonu başlıca alma nedenlerim ise elimde...</td>\n      <td>Positive</td>\n      <td>urun_yorumlari</td>\n    </tr>\n  </tbody>\n</table>\n</div>"
     },
     "execution_count": 17,
     "metadata": {},
     "output_type": "execute_result"
    }
   ],
   "source": [
    "train = pd.read_csv('train.csv')\n",
    "train.head()"
   ],
   "metadata": {
    "collapsed": false
   }
  },
  {
   "cell_type": "code",
   "execution_count": 18,
   "outputs": [
    {
     "data": {
      "text/plain": "                                                text     label         dataset\n0      Kral akbaba dikkat çekici renklere sahiptir .      Notr            wiki\n1   ısrarla korkutmayı başarıyor. sanki korku çok...  Positive           HUMIR\n2  Neşe ve Üzüntü köprünün kırılmaya başlamasıyla...      Notr            wiki\n3  i phone 5 ten sonra gene 4'' ekranı tercih ett...  Positive  urun_yorumlari\n4    Beşinci sezonda diziye yeni oyuncular katıldı .      Notr            wiki",
      "text/html": "<div>\n<style scoped>\n    .dataframe tbody tr th:only-of-type {\n        vertical-align: middle;\n    }\n\n    .dataframe tbody tr th {\n        vertical-align: top;\n    }\n\n    .dataframe thead th {\n        text-align: right;\n    }\n</style>\n<table border=\"1\" class=\"dataframe\">\n  <thead>\n    <tr style=\"text-align: right;\">\n      <th></th>\n      <th>text</th>\n      <th>label</th>\n      <th>dataset</th>\n    </tr>\n  </thead>\n  <tbody>\n    <tr>\n      <th>0</th>\n      <td>Kral akbaba dikkat çekici renklere sahiptir .</td>\n      <td>Notr</td>\n      <td>wiki</td>\n    </tr>\n    <tr>\n      <th>1</th>\n      <td>ısrarla korkutmayı başarıyor. sanki korku çok...</td>\n      <td>Positive</td>\n      <td>HUMIR</td>\n    </tr>\n    <tr>\n      <th>2</th>\n      <td>Neşe ve Üzüntü köprünün kırılmaya başlamasıyla...</td>\n      <td>Notr</td>\n      <td>wiki</td>\n    </tr>\n    <tr>\n      <th>3</th>\n      <td>i phone 5 ten sonra gene 4'' ekranı tercih ett...</td>\n      <td>Positive</td>\n      <td>urun_yorumlari</td>\n    </tr>\n    <tr>\n      <th>4</th>\n      <td>Beşinci sezonda diziye yeni oyuncular katıldı .</td>\n      <td>Notr</td>\n      <td>wiki</td>\n    </tr>\n  </tbody>\n</table>\n</div>"
     },
     "execution_count": 18,
     "metadata": {},
     "output_type": "execute_result"
    }
   ],
   "source": [
    "test = pd.read_csv('test.csv')\n",
    "test.head()"
   ],
   "metadata": {
    "collapsed": false
   }
  },
  {
   "cell_type": "code",
   "execution_count": 4,
   "outputs": [
    {
     "name": "stdout",
     "output_type": "stream",
     "text": [
      "<class 'pandas.core.frame.DataFrame'>\n",
      "RangeIndex: 440679 entries, 0 to 440678\n",
      "Data columns (total 3 columns):\n",
      " #   Column   Non-Null Count   Dtype \n",
      "---  ------   --------------   ----- \n",
      " 0   text     440679 non-null  object\n",
      " 1   label    440679 non-null  object\n",
      " 2   dataset  440679 non-null  object\n",
      "dtypes: object(3)\n",
      "memory usage: 10.1+ MB\n"
     ]
    }
   ],
   "source": [
    "train.info()"
   ],
   "metadata": {
    "collapsed": false
   }
  },
  {
   "cell_type": "code",
   "execution_count": 5,
   "outputs": [
    {
     "name": "stdout",
     "output_type": "stream",
     "text": [
      "<class 'pandas.core.frame.DataFrame'>\n",
      "RangeIndex: 48965 entries, 0 to 48964\n",
      "Data columns (total 3 columns):\n",
      " #   Column   Non-Null Count  Dtype \n",
      "---  ------   --------------  ----- \n",
      " 0   text     48965 non-null  object\n",
      " 1   label    48965 non-null  object\n",
      " 2   dataset  48965 non-null  object\n",
      "dtypes: object(3)\n",
      "memory usage: 1.1+ MB\n"
     ]
    }
   ],
   "source": [
    "test.info()"
   ],
   "metadata": {
    "collapsed": false
   }
  },
  {
   "cell_type": "code",
   "execution_count": 12,
   "outputs": [
    {
     "data": {
      "text/plain": "label   \nPositive    0.535421\nNotr        0.349064\nNegative    0.115515\ndtype: float64"
     },
     "execution_count": 12,
     "metadata": {},
     "output_type": "execute_result"
    }
   ],
   "source": [
    "temp = train.value_counts(['label'], normalize=True, sort=True)\n",
    "temp"
   ],
   "metadata": {
    "collapsed": false
   }
  },
  {
   "cell_type": "code",
   "execution_count": 14,
   "outputs": [
    {
     "data": {
      "text/plain": "label   \nPositive    0.535423\nNotr        0.349066\nNegative    0.115511\ndtype: float64"
     },
     "execution_count": 14,
     "metadata": {},
     "output_type": "execute_result"
    }
   ],
   "source": [
    "temp = test.value_counts(['label'], normalize=True, sort=True)\n",
    "temp"
   ],
   "metadata": {
    "collapsed": false
   }
  },
  {
   "cell_type": "code",
   "execution_count": 25,
   "outputs": [
    {
     "data": {
      "text/plain": "<Figure size 864x432 with 1 Axes>",
      "image/png": "[encoded data removed]"
     },
     "metadata": {
      "needs_background": "light"
     },
     "output_type": "display_data"
    }
   ],
   "source": [
    "train['Num_word_text'] = train['text'].apply(lambda x:len(str(x).split())) #Number Of words in main text\n",
    "plt.figure(figsize=(12,6))\n",
    "p1=sns.kdeplot(train['Num_word_text'], shade=True, color=\"r\", clip=(0.0, 200)).set_title('Kernel Distribution of Number Of words')"
   ],
   "metadata": {
    "collapsed": false
   }
  },
  {
   "cell_type": "code",
   "execution_count": 29,
   "outputs": [
    {
     "data": {
      "text/plain": "urun_yorumlari      210693\nwiki                153364\nHUMIR                58575\ntweet-pn              9959\nmagaza_yorumlari      7627\nrandom                 461\nName: dataset, dtype: int64"
     },
     "execution_count": 29,
     "metadata": {},
     "output_type": "execute_result"
    }
   ],
   "source": [
    "train['dataset'].value_counts()"
   ],
   "metadata": {
    "collapsed": false
   }
  },
  {
   "cell_type": "code",
   "execution_count": 44,
   "outputs": [
    {
     "data": {
      "text/plain": "<pandas.io.formats.style.Styler at 0x29354731ee0>",
      "text/html": "<style type=\"text/css\">\n#T_fb0e4_row0_col1 {\n  background-color: #08306b;\n  color: #f1f1f1;\n}\n#T_fb0e4_row1_col1 {\n  background-color: #1460a8;\n  color: #f1f1f1;\n}\n#T_fb0e4_row2_col1 {\n  background-color: #3e8ec4;\n  color: #f1f1f1;\n}\n#T_fb0e4_row3_col1 {\n  background-color: #94c4df;\n  color: #000000;\n}\n#T_fb0e4_row4_col1 {\n  background-color: #cddff1;\n  color: #000000;\n}\n#T_fb0e4_row5_col1 {\n  background-color: #d1e2f3;\n  color: #000000;\n}\n#T_fb0e4_row6_col1 {\n  background-color: #d9e8f5;\n  color: #000000;\n}\n#T_fb0e4_row7_col1 {\n  background-color: #deebf7;\n  color: #000000;\n}\n#T_fb0e4_row8_col1, #T_fb0e4_row9_col1 {\n  background-color: #dfecf7;\n  color: #000000;\n}\n#T_fb0e4_row10_col1 {\n  background-color: #e1edf8;\n  color: #000000;\n}\n#T_fb0e4_row11_col1 {\n  background-color: #e3eef9;\n  color: #000000;\n}\n#T_fb0e4_row12_col1 {\n  background-color: #e7f1fa;\n  color: #000000;\n}\n#T_fb0e4_row13_col1 {\n  background-color: #eef5fc;\n  color: #000000;\n}\n#T_fb0e4_row14_col1 {\n  background-color: #eff6fc;\n  color: #000000;\n}\n#T_fb0e4_row15_col1, #T_fb0e4_row16_col1, #T_fb0e4_row17_col1 {\n  background-color: #f4f9fe;\n  color: #000000;\n}\n#T_fb0e4_row18_col1 {\n  background-color: #f5f9fe;\n  color: #000000;\n}\n#T_fb0e4_row19_col1 {\n  background-color: #f7fbff;\n  color: #000000;\n}\n</style>\n<table id=\"T_fb0e4\">\n  <thead>\n    <tr>\n      <th class=\"blank level0\" >&nbsp;</th>\n      <th id=\"T_fb0e4_level0_col0\" class=\"col_heading level0 col0\" >Common_words</th>\n      <th id=\"T_fb0e4_level0_col1\" class=\"col_heading level0 col1\" >count</th>\n    </tr>\n  </thead>\n  <tbody>\n    <tr>\n      <th id=\"T_fb0e4_level0_row0\" class=\"row_heading level0 row0\" >0</th>\n      <td id=\"T_fb0e4_row0_col0\" class=\"data row0 col0\" >bir</td>\n      <td id=\"T_fb0e4_row0_col1\" class=\"data row0 col1\" >214027</td>\n    </tr>\n    <tr>\n      <th id=\"T_fb0e4_level0_row1\" class=\"row_heading level0 row1\" >1</th>\n      <td id=\"T_fb0e4_row1_col0\" class=\"data row1 col0\" >ve</td>\n      <td id=\"T_fb0e4_row1_col1\" class=\"data row1 col1\" >180143</td>\n    </tr>\n    <tr>\n      <th id=\"T_fb0e4_level0_row2\" class=\"row_heading level0 row2\" >2</th>\n      <td id=\"T_fb0e4_row2_col0\" class=\"data row2 col0\" >çok</td>\n      <td id=\"T_fb0e4_row2_col1\" class=\"data row2 col1\" >148174</td>\n    </tr>\n    <tr>\n      <th id=\"T_fb0e4_level0_row3\" class=\"row_heading level0 row3\" >3</th>\n      <td id=\"T_fb0e4_row3_col0\" class=\"data row3 col0\" >bu</td>\n      <td id=\"T_fb0e4_row3_col1\" class=\"data row3 col1\" >104290</td>\n    </tr>\n    <tr>\n      <th id=\"T_fb0e4_level0_row4\" class=\"row_heading level0 row4\" >4</th>\n      <td id=\"T_fb0e4_row4_col0\" class=\"data row4 col0\" >ürün</td>\n      <td id=\"T_fb0e4_row4_col1\" class=\"data row4 col1\" >70436</td>\n    </tr>\n    <tr>\n      <th id=\"T_fb0e4_level0_row5\" class=\"row_heading level0 row5\" >5</th>\n      <td id=\"T_fb0e4_row5_col0\" class=\"data row5 col0\" >için</td>\n      <td id=\"T_fb0e4_row5_col1\" class=\"data row5 col1\" >66079</td>\n    </tr>\n    <tr>\n      <th id=\"T_fb0e4_level0_row6\" class=\"row_heading level0 row6\" >6</th>\n      <td id=\"T_fb0e4_row6_col0\" class=\"data row6 col0\" >iyi</td>\n      <td id=\"T_fb0e4_row6_col1\" class=\"data row6 col1\" >58413</td>\n    </tr>\n    <tr>\n      <th id=\"T_fb0e4_level0_row7\" class=\"row_heading level0 row7\" >7</th>\n      <td id=\"T_fb0e4_row7_col0\" class=\"data row7 col0\" >daha</td>\n      <td id=\"T_fb0e4_row7_col1\" class=\"data row7 col1\" >54034</td>\n    </tr>\n    <tr>\n      <th id=\"T_fb0e4_level0_row8\" class=\"row_heading level0 row8\" >8</th>\n      <td id=\"T_fb0e4_row8_col0\" class=\"data row8 col0\" >ama</td>\n      <td id=\"T_fb0e4_row8_col1\" class=\"data row8 col1\" >52943</td>\n    </tr>\n    <tr>\n      <th id=\"T_fb0e4_level0_row9\" class=\"row_heading level0 row9\" >9</th>\n      <td id=\"T_fb0e4_row9_col0\" class=\"data row9 col0\" >güzel</td>\n      <td id=\"T_fb0e4_row9_col1\" class=\"data row9 col1\" >52648</td>\n    </tr>\n    <tr>\n      <th id=\"T_fb0e4_level0_row10\" class=\"row_heading level0 row10\" >10</th>\n      <td id=\"T_fb0e4_row10_col0\" class=\"data row10 col0\" >da</td>\n      <td id=\"T_fb0e4_row10_col1\" class=\"data row10 col1\" >51302</td>\n    </tr>\n    <tr>\n      <th id=\"T_fb0e4_level0_row11\" class=\"row_heading level0 row11\" >11</th>\n      <td id=\"T_fb0e4_row11_col0\" class=\"data row11 col0\" >de</td>\n      <td id=\"T_fb0e4_row11_col1\" class=\"data row11 col1\" >48893</td>\n    </tr>\n    <tr>\n      <th id=\"T_fb0e4_level0_row12\" class=\"row_heading level0 row12\" >12</th>\n      <td id=\"T_fb0e4_row12_col0\" class=\"data row12 col0\" >tavsiye</td>\n      <td id=\"T_fb0e4_row12_col1\" class=\"data row12 col1\" >45672</td>\n    </tr>\n    <tr>\n      <th id=\"T_fb0e4_level0_row13\" class=\"row_heading level0 row13\" >13</th>\n      <td id=\"T_fb0e4_row13_col0\" class=\"data row13 col0\" >olarak</td>\n      <td id=\"T_fb0e4_row13_col1\" class=\"data row13 col1\" >39100</td>\n    </tr>\n    <tr>\n      <th id=\"T_fb0e4_level0_row14\" class=\"row_heading level0 row14\" >14</th>\n      <td id=\"T_fb0e4_row14_col0\" class=\"data row14 col0\" >ederim</td>\n      <td id=\"T_fb0e4_row14_col1\" class=\"data row14 col1\" >38444</td>\n    </tr>\n    <tr>\n      <th id=\"T_fb0e4_level0_row15\" class=\"row_heading level0 row15\" >15</th>\n      <td id=\"T_fb0e4_row15_col0\" class=\"data row15 col0\" >en</td>\n      <td id=\"T_fb0e4_row15_col1\" class=\"data row15 col1\" >34310</td>\n    </tr>\n    <tr>\n      <th id=\"T_fb0e4_level0_row16\" class=\"row_heading level0 row16\" >16</th>\n      <td id=\"T_fb0e4_row16_col0\" class=\"data row16 col0\" >kadar</td>\n      <td id=\"T_fb0e4_row16_col1\" class=\"data row16 col1\" >33889</td>\n    </tr>\n    <tr>\n      <th id=\"T_fb0e4_level0_row17\" class=\"row_heading level0 row17\" >17</th>\n      <td id=\"T_fb0e4_row17_col0\" class=\"data row17 col0\" >gibi</td>\n      <td id=\"T_fb0e4_row17_col1\" class=\"data row17 col1\" >33785</td>\n    </tr>\n    <tr>\n      <th id=\"T_fb0e4_level0_row18\" class=\"row_heading level0 row18\" >18</th>\n      <td id=\"T_fb0e4_row18_col0\" class=\"data row18 col0\" >film</td>\n      <td id=\"T_fb0e4_row18_col1\" class=\"data row18 col1\" >33058</td>\n    </tr>\n    <tr>\n      <th id=\"T_fb0e4_level0_row19\" class=\"row_heading level0 row19\" >19</th>\n      <td id=\"T_fb0e4_row19_col0\" class=\"data row19 col0\" >ile</td>\n      <td id=\"T_fb0e4_row19_col1\" class=\"data row19 col1\" >30804</td>\n    </tr>\n  </tbody>\n</table>\n"
     },
     "execution_count": 44,
     "metadata": {},
     "output_type": "execute_result"
    }
   ],
   "source": [
    "train['temp_list'] = train['text'].apply(lambda x:str(x).split())\n",
    "top = Counter([item for sublist in train['temp_list'] for item in sublist])\n",
    "temp = pd.DataFrame(top.most_common(20))\n",
    "temp.columns = ['Common_words','count']\n",
    "temp.style.background_gradient(cmap='Blues')"
   ],
   "metadata": {
    "collapsed": false
   }
  },
  {
   "cell_type": "code",
   "execution_count": 45,
   "outputs": [
    {
     "data": {
      "text/plain": "                                                     text     label  \\\n0       ürünü hepsiburadadan alalı 3 hafta oldu orjina...  Positive   \n1       ürünlerden çok memnunum kesinlikle herkese tav...  Positive   \n2              hızlı kargo temiz alışverişteşekkür ederim  Positive   \n3                     Çünkü aranan tapınak bu bölgededir       Notr   \n4       bu telefonu başlıca alma nedenlerim ise elimde...  Positive   \n...                                                   ...       ...   \n440674  Ayrıca burç yorumları ve çapraz bulmaca da der...      Notr   \n440675  günümüz de ssd olmazsa olmaz bir donanım artık...  Positive   \n440676  kullandım ve çok memnun kaldım ocak başında da...  Positive   \n440677                 Adını Lenkeran şehrinden almıştır       Notr   \n440678  Bu dergilerde sosyalist teori ve siyasete iliş...      Notr   \n\n               dataset  \n0       urun_yorumlari  \n1       urun_yorumlari  \n2       urun_yorumlari  \n3                 wiki  \n4       urun_yorumlari  \n...                ...  \n440674            wiki  \n440675  urun_yorumlari  \n440676  urun_yorumlari  \n440677            wiki  \n440678            wiki  \n\n[440679 rows x 3 columns]",
      "text/html": "<div>\n<style scoped>\n    .dataframe tbody tr th:only-of-type {\n        vertical-align: middle;\n    }\n\n    .dataframe tbody tr th {\n        vertical-align: top;\n    }\n\n    .dataframe thead th {\n        text-align: right;\n    }\n</style>\n<table border=\"1\" class=\"dataframe\">\n  <thead>\n    <tr style=\"text-align: right;\">\n      <th></th>\n      <th>text</th>\n      <th>label</th>\n      <th>dataset</th>\n    </tr>\n  </thead>\n  <tbody>\n    <tr>\n      <th>0</th>\n      <td>ürünü hepsiburadadan alalı 3 hafta oldu orjina...</td>\n      <td>Positive</td>\n      <td>urun_yorumlari</td>\n    </tr>\n    <tr>\n      <th>1</th>\n      <td>ürünlerden çok memnunum kesinlikle herkese tav...</td>\n      <td>Positive</td>\n      <td>urun_yorumlari</td>\n    </tr>\n    <tr>\n      <th>2</th>\n      <td>hızlı kargo temiz alışverişteşekkür ederim</td>\n      <td>Positive</td>\n      <td>urun_yorumlari</td>\n    </tr>\n    <tr>\n      <th>3</th>\n      <td>Çünkü aranan tapınak bu bölgededir</td>\n      <td>Notr</td>\n      <td>wiki</td>\n    </tr>\n    <tr>\n      <th>4</th>\n      <td>bu telefonu başlıca alma nedenlerim ise elimde...</td>\n      <td>Positive</td>\n      <td>urun_yorumlari</td>\n    </tr>\n    <tr>\n      <th>...</th>\n      <td>...</td>\n      <td>...</td>\n      <td>...</td>\n    </tr>\n    <tr>\n      <th>440674</th>\n      <td>Ayrıca burç yorumları ve çapraz bulmaca da der...</td>\n      <td>Notr</td>\n      <td>wiki</td>\n    </tr>\n    <tr>\n      <th>440675</th>\n      <td>günümüz de ssd olmazsa olmaz bir donanım artık...</td>\n      <td>Positive</td>\n      <td>urun_yorumlari</td>\n    </tr>\n    <tr>\n      <th>440676</th>\n      <td>kullandım ve çok memnun kaldım ocak başında da...</td>\n      <td>Positive</td>\n      <td>urun_yorumlari</td>\n    </tr>\n    <tr>\n      <th>440677</th>\n      <td>Adını Lenkeran şehrinden almıştır</td>\n      <td>Notr</td>\n      <td>wiki</td>\n    </tr>\n    <tr>\n      <th>440678</th>\n      <td>Bu dergilerde sosyalist teori ve siyasete iliş...</td>\n      <td>Notr</td>\n      <td>wiki</td>\n    </tr>\n  </tbody>\n</table>\n<p>440679 rows × 3 columns</p>\n</div>"
     },
     "execution_count": 45,
     "metadata": {},
     "output_type": "execute_result"
    }
   ],
   "source": [
    "train.drop(['temp_list', 'Num_word_text'], axis=1, inplace=True)"
   ],
   "metadata": {
    "collapsed": false
   }
  },
  {
   "cell_type": "code",
   "execution_count": 4,
   "outputs": [],
   "source": [
    "stop_words = stopwords.words(\"turkish\")\n",
    "stemmer = TurkishStemmer()\n",
    "def preprocess(text, stem=False):\n",
    "    text = text.translate(str.maketrans('', '', string.punctuation))\n",
    "    tokens = []\n",
    "    for token in text.split():\n",
    "        if token not in stop_words:\n",
    "            if stem:\n",
    "                tokens.append(stemmer.stem(token))\n",
    "            else:\n",
    "                tokens.append(token)\n",
    "    return \" \".join(tokens)"
   ],
   "metadata": {
    "collapsed": false
   }
  },
  {
   "cell_type": "code",
   "execution_count": 19,
   "outputs": [
    {
     "data": {
      "text/plain": "                                                     text     label  \\\n0       ürünü hepsiburadadan alalı 3 hafta oldu orjina...  Positive   \n1       ürünlerden memnunum kesinlikle herkese tavsiye...  Positive   \n2              hızlı kargo temiz alışverişteşekkür ederim  Positive   \n3                         Çünkü aranan tapınak bölgededir      Notr   \n4       telefonu başlıca alma nedenlerim elimdeki sams...  Positive   \n...                                                   ...       ...   \n440674  Ayrıca burç yorumları çapraz bulmaca dergide m...      Notr   \n440675  günümüz ssd olmazsa olmaz bir donanım artık 25...  Positive   \n440676  kullandım memnun kaldım ocak başında dakika tu...  Positive   \n440677                  Adını Lenkeran şehrinden almıştır      Notr   \n440678  Bu dergilerde sosyalist teori siyasete ilişkin...      Notr   \n\n               dataset  \n0       urun_yorumlari  \n1       urun_yorumlari  \n2       urun_yorumlari  \n3                 wiki  \n4       urun_yorumlari  \n...                ...  \n440674            wiki  \n440675  urun_yorumlari  \n440676  urun_yorumlari  \n440677            wiki  \n440678            wiki  \n\n[440679 rows x 3 columns]",
      "text/html": "<div>\n<style scoped>\n    .dataframe tbody tr th:only-of-type {\n        vertical-align: middle;\n    }\n\n    .dataframe tbody tr th {\n        vertical-align: top;\n    }\n\n    .dataframe thead th {\n        text-align: right;\n    }\n</style>\n<table border=\"1\" class=\"dataframe\">\n  <thead>\n    <tr style=\"text-align: right;\">\n      <th></th>\n      <th>text</th>\n      <th>label</th>\n      <th>dataset</th>\n    </tr>\n  </thead>\n  <tbody>\n    <tr>\n      <th>0</th>\n      <td>ürünü hepsiburadadan alalı 3 hafta oldu orjina...</td>\n      <td>Positive</td>\n      <td>urun_yorumlari</td>\n    </tr>\n    <tr>\n      <th>1</th>\n      <td>ürünlerden memnunum kesinlikle herkese tavsiye...</td>\n      <td>Positive</td>\n      <td>urun_yorumlari</td>\n    </tr>\n    <tr>\n      <th>2</th>\n      <td>hızlı kargo temiz alışverişteşekkür ederim</td>\n      <td>Positive</td>\n      <td>urun_yorumlari</td>\n    </tr>\n    <tr>\n      <th>3</th>\n      <td>Çünkü aranan tapınak bölgededir</td>\n      <td>Notr</td>\n      <td>wiki</td>\n    </tr>\n    <tr>\n      <th>4</th>\n      <td>telefonu başlıca alma nedenlerim elimdeki sams...</td>\n      <td>Positive</td>\n      <td>urun_yorumlari</td>\n    </tr>\n    <tr>\n      <th>...</th>\n      <td>...</td>\n      <td>...</td>\n      <td>...</td>\n    </tr>\n    <tr>\n      <th>440674</th>\n      <td>Ayrıca burç yorumları çapraz bulmaca dergide m...</td>\n      <td>Notr</td>\n      <td>wiki</td>\n    </tr>\n    <tr>\n      <th>440675</th>\n      <td>günümüz ssd olmazsa olmaz bir donanım artık 25...</td>\n      <td>Positive</td>\n      <td>urun_yorumlari</td>\n    </tr>\n    <tr>\n      <th>440676</th>\n      <td>kullandım memnun kaldım ocak başında dakika tu...</td>\n      <td>Positive</td>\n      <td>urun_yorumlari</td>\n    </tr>\n    <tr>\n      <th>440677</th>\n      <td>Adını Lenkeran şehrinden almıştır</td>\n      <td>Notr</td>\n      <td>wiki</td>\n    </tr>\n    <tr>\n      <th>440678</th>\n      <td>Bu dergilerde sosyalist teori siyasete ilişkin...</td>\n      <td>Notr</td>\n      <td>wiki</td>\n    </tr>\n  </tbody>\n</table>\n<p>440679 rows × 3 columns</p>\n</div>"
     },
     "execution_count": 19,
     "metadata": {},
     "output_type": "execute_result"
    }
   ],
   "source": [
    "train['text'] = train['text'].apply(lambda x: preprocess(x, True))\n",
    "train"
   ],
   "metadata": {
    "collapsed": false
   }
  },
  {
   "cell_type": "code",
   "execution_count": 20,
   "outputs": [
    {
     "data": {
      "text/plain": "                                                    text     label  \\\n0            Kral akbaba dikkat çekici renklere sahiptir      Notr   \n1      ısrarla korkutmayı başarıyor korku uzun bitmiy...  Positive   \n2      Neşe Üzüntü köprünün kırılmaya başlamasıyla ge...      Notr   \n3      i phone 5 ten sonra gene 4 ekranı tercih ettim...  Positive   \n4          Beşinci sezonda diziye yeni oyuncular katıldı      Notr   \n...                                                  ...       ...   \n48960  Fransa bayrağı diğer kırmızı zeminden beyaz bi...      Notr   \n48961  Yine aynı yıl türkü dalında Murat Çobanoğlu bi...      Notr   \n48962                           Kurgunu skiyim oç evladı  Negative   \n48963  Şarkı sonrasında Damian Marley tarafından sesl...      Notr   \n48964  berrak bir ürün ancak kendi orijinal spigen ly...  Negative   \n\n              dataset  \n0                wiki  \n1               HUMIR  \n2                wiki  \n3      urun_yorumlari  \n4                wiki  \n...               ...  \n48960            wiki  \n48961            wiki  \n48962        tweet-pn  \n48963            wiki  \n48964  urun_yorumlari  \n\n[48965 rows x 3 columns]",
      "text/html": "<div>\n<style scoped>\n    .dataframe tbody tr th:only-of-type {\n        vertical-align: middle;\n    }\n\n    .dataframe tbody tr th {\n        vertical-align: top;\n    }\n\n    .dataframe thead th {\n        text-align: right;\n    }\n</style>\n<table border=\"1\" class=\"dataframe\">\n  <thead>\n    <tr style=\"text-align: right;\">\n      <th></th>\n      <th>text</th>\n      <th>label</th>\n      <th>dataset</th>\n    </tr>\n  </thead>\n  <tbody>\n    <tr>\n      <th>0</th>\n      <td>Kral akbaba dikkat çekici renklere sahiptir</td>\n      <td>Notr</td>\n      <td>wiki</td>\n    </tr>\n    <tr>\n      <th>1</th>\n      <td>ısrarla korkutmayı başarıyor korku uzun bitmiy...</td>\n      <td>Positive</td>\n      <td>HUMIR</td>\n    </tr>\n    <tr>\n      <th>2</th>\n      <td>Neşe Üzüntü köprünün kırılmaya başlamasıyla ge...</td>\n      <td>Notr</td>\n      <td>wiki</td>\n    </tr>\n    <tr>\n      <th>3</th>\n      <td>i phone 5 ten sonra gene 4 ekranı tercih ettim...</td>\n      <td>Positive</td>\n      <td>urun_yorumlari</td>\n    </tr>\n    <tr>\n      <th>4</th>\n      <td>Beşinci sezonda diziye yeni oyuncular katıldı</td>\n      <td>Notr</td>\n      <td>wiki</td>\n    </tr>\n    <tr>\n      <th>...</th>\n      <td>...</td>\n      <td>...</td>\n      <td>...</td>\n    </tr>\n    <tr>\n      <th>48960</th>\n      <td>Fransa bayrağı diğer kırmızı zeminden beyaz bi...</td>\n      <td>Notr</td>\n      <td>wiki</td>\n    </tr>\n    <tr>\n      <th>48961</th>\n      <td>Yine aynı yıl türkü dalında Murat Çobanoğlu bi...</td>\n      <td>Notr</td>\n      <td>wiki</td>\n    </tr>\n    <tr>\n      <th>48962</th>\n      <td>Kurgunu skiyim oç evladı</td>\n      <td>Negative</td>\n      <td>tweet-pn</td>\n    </tr>\n    <tr>\n      <th>48963</th>\n      <td>Şarkı sonrasında Damian Marley tarafından sesl...</td>\n      <td>Notr</td>\n      <td>wiki</td>\n    </tr>\n    <tr>\n      <th>48964</th>\n      <td>berrak bir ürün ancak kendi orijinal spigen ly...</td>\n      <td>Negative</td>\n      <td>urun_yorumlari</td>\n    </tr>\n  </tbody>\n</table>\n<p>48965 rows × 3 columns</p>\n</div>"
     },
     "execution_count": 20,
     "metadata": {},
     "output_type": "execute_result"
    }
   ],
   "source": [
    "test['text'] = test['text'].apply(lambda x: preprocess(x, True))\n",
    "test"
   ],
   "metadata": {
    "collapsed": false
   }
  },
  {
   "cell_type": "code",
   "execution_count": 56,
   "outputs": [
    {
     "data": {
      "text/plain": "<pandas.io.formats.style.Styler at 0x29353a21700>",
      "text/html": "<style type=\"text/css\">\n#T_50b8f_row0_col1 {\n  background-color: #08306b;\n  color: #f1f1f1;\n}\n#T_50b8f_row1_col1 {\n  background-color: #7fb9da;\n  color: #000000;\n}\n#T_50b8f_row2_col1 {\n  background-color: #b8d5ea;\n  color: #000000;\n}\n#T_50b8f_row3_col1 {\n  background-color: #d0e1f2;\n  color: #000000;\n}\n#T_50b8f_row4_col1 {\n  background-color: #d9e7f5;\n  color: #000000;\n}\n#T_50b8f_row5_col1 {\n  background-color: #e1edf8;\n  color: #000000;\n}\n#T_50b8f_row6_col1 {\n  background-color: #e3eef9;\n  color: #000000;\n}\n#T_50b8f_row7_col1 {\n  background-color: #e6f0f9;\n  color: #000000;\n}\n#T_50b8f_row8_col1 {\n  background-color: #e9f2fa;\n  color: #000000;\n}\n#T_50b8f_row9_col1 {\n  background-color: #ebf3fb;\n  color: #000000;\n}\n#T_50b8f_row10_col1 {\n  background-color: #ecf4fb;\n  color: #000000;\n}\n#T_50b8f_row11_col1 {\n  background-color: #eef5fc;\n  color: #000000;\n}\n#T_50b8f_row12_col1 {\n  background-color: #eff6fc;\n  color: #000000;\n}\n#T_50b8f_row13_col1 {\n  background-color: #f0f6fd;\n  color: #000000;\n}\n#T_50b8f_row14_col1 {\n  background-color: #f1f7fd;\n  color: #000000;\n}\n#T_50b8f_row15_col1 {\n  background-color: #f2f7fd;\n  color: #000000;\n}\n#T_50b8f_row16_col1 {\n  background-color: #f5f9fe;\n  color: #000000;\n}\n#T_50b8f_row17_col1 {\n  background-color: #f5fafe;\n  color: #000000;\n}\n#T_50b8f_row18_col1, #T_50b8f_row19_col1 {\n  background-color: #f7fbff;\n  color: #000000;\n}\n</style>\n<table id=\"T_50b8f\">\n  <thead>\n    <tr>\n      <th class=\"blank level0\" >&nbsp;</th>\n      <th id=\"T_50b8f_level0_col0\" class=\"col_heading level0 col0\" >Common_words</th>\n      <th id=\"T_50b8f_level0_col1\" class=\"col_heading level0 col1\" >count</th>\n    </tr>\n  </thead>\n  <tbody>\n    <tr>\n      <th id=\"T_50b8f_level0_row0\" class=\"row_heading level0 row0\" >0</th>\n      <td id=\"T_50b8f_row0_col0\" class=\"data row0 col0\" >bir</td>\n      <td id=\"T_50b8f_row0_col1\" class=\"data row0 col1\" >218473</td>\n    </tr>\n    <tr>\n      <th id=\"T_50b8f_level0_row1\" class=\"row_heading level0 row1\" >1</th>\n      <td id=\"T_50b8f_row1_col0\" class=\"data row1 col0\" >ürün</td>\n      <td id=\"T_50b8f_row1_col1\" class=\"data row1 col1\" >112804</td>\n    </tr>\n    <tr>\n      <th id=\"T_50b8f_level0_row2\" class=\"row_heading level0 row2\" >2</th>\n      <td id=\"T_50b8f_row2_col0\" class=\"data row2 col0\" >film</td>\n      <td id=\"T_50b8f_row2_col1\" class=\"data row2 col1\" >83142</td>\n    </tr>\n    <tr>\n      <th id=\"T_50b8f_level0_row3\" class=\"row_heading level0 row3\" >3</th>\n      <td id=\"T_50b8f_row3_col0\" class=\"data row3 col0\" >iyi</td>\n      <td id=\"T_50b8f_row3_col1\" class=\"data row3 col1\" >65393</td>\n    </tr>\n    <tr>\n      <th id=\"T_50b8f_level0_row4\" class=\"row_heading level0 row4\" >4</th>\n      <td id=\"T_50b8f_row4_col0\" class=\"data row4 col0\" >güzel</td>\n      <td id=\"T_50b8f_row4_col1\" class=\"data row4 col1\" >56142</td>\n    </tr>\n    <tr>\n      <th id=\"T_50b8f_level0_row5\" class=\"row_heading level0 row5\" >5</th>\n      <td id=\"T_50b8f_row5_col0\" class=\"data row5 col0\" >al</td>\n      <td id=\"T_50b8f_row5_col1\" class=\"data row5 col1\" >47605</td>\n    </tr>\n    <tr>\n      <th id=\"T_50b8f_level0_row6\" class=\"row_heading level0 row6\" >6</th>\n      <td id=\"T_50b8f_row6_col0\" class=\"data row6 col0\" >tavsi</td>\n      <td id=\"T_50b8f_row6_col1\" class=\"data row6 col1\" >45821</td>\n    </tr>\n    <tr>\n      <th id=\"T_50b8f_level0_row7\" class=\"row_heading level0 row7\" >7</th>\n      <td id=\"T_50b8f_row7_col0\" class=\"data row7 col0\" >eder</td>\n      <td id=\"T_50b8f_row7_col1\" class=\"data row7 col1\" >43490</td>\n    </tr>\n    <tr>\n      <th id=\"T_50b8f_level0_row8\" class=\"row_heading level0 row8\" >8</th>\n      <td id=\"T_50b8f_row8_col0\" class=\"data row8 col0\" >olarak</td>\n      <td id=\"T_50b8f_row8_col1\" class=\"data row8 col1\" >39954</td>\n    </tr>\n    <tr>\n      <th id=\"T_50b8f_level0_row9\" class=\"row_heading level0 row9\" >9</th>\n      <td id=\"T_50b8f_row9_col0\" class=\"data row9 col0\" >var</td>\n      <td id=\"T_50b8f_row9_col1\" class=\"data row9 col1\" >38416</td>\n    </tr>\n    <tr>\n      <th id=\"T_50b8f_level0_row10\" class=\"row_heading level0 row10\" >10</th>\n      <td id=\"T_50b8f_row10_col0\" class=\"data row10 col0\" >ben</td>\n      <td id=\"T_50b8f_row10_col1\" class=\"data row10 col1\" >37210</td>\n    </tr>\n    <tr>\n      <th id=\"T_50b8f_level0_row11\" class=\"row_heading level0 row11\" >11</th>\n      <td id=\"T_50b8f_row11_col0\" class=\"data row11 col0\" >kadar</td>\n      <td id=\"T_50b8f_row11_col1\" class=\"data row11 col1\" >35019</td>\n    </tr>\n    <tr>\n      <th id=\"T_50b8f_level0_row12\" class=\"row_heading level0 row12\" >12</th>\n      <td id=\"T_50b8f_row12_col0\" class=\"data row12 col0\" >kalite</td>\n      <td id=\"T_50b8f_row12_col1\" class=\"data row12 col1\" >34626</td>\n    </tr>\n    <tr>\n      <th id=\"T_50b8f_level0_row13\" class=\"row_heading level0 row13\" >13</th>\n      <td id=\"T_50b8f_row13_col0\" class=\"data row13 col0\" >fiyat</td>\n      <td id=\"T_50b8f_row13_col1\" class=\"data row13 col1\" >33845</td>\n    </tr>\n    <tr>\n      <th id=\"T_50b8f_level0_row14\" class=\"row_heading level0 row14\" >14</th>\n      <td id=\"T_50b8f_row14_col0\" class=\"data row14 col0\" >yok</td>\n      <td id=\"T_50b8f_row14_col1\" class=\"data row14 col1\" >33147</td>\n    </tr>\n    <tr>\n      <th id=\"T_50b8f_level0_row15\" class=\"row_heading level0 row15\" >15</th>\n      <td id=\"T_50b8f_row15_col0\" class=\"data row15 col0\" >gün</td>\n      <td id=\"T_50b8f_row15_col1\" class=\"data row15 col1\" >32250</td>\n    </tr>\n    <tr>\n      <th id=\"T_50b8f_level0_row16\" class=\"row_heading level0 row16\" >16</th>\n      <td id=\"T_50b8f_row16_col0\" class=\"data row16 col0\" >teşekkür</td>\n      <td id=\"T_50b8f_row16_col1\" class=\"data row16 col1\" >29126</td>\n    </tr>\n    <tr>\n      <th id=\"T_50b8f_level0_row17\" class=\"row_heading level0 row17\" >17</th>\n      <td id=\"T_50b8f_row17_col0\" class=\"data row17 col0\" >gayet</td>\n      <td id=\"T_50b8f_row17_col1\" class=\"data row17 col1\" >28610</td>\n    </tr>\n    <tr>\n      <th id=\"T_50b8f_level0_row18\" class=\"row_heading level0 row18\" >18</th>\n      <td id=\"T_50b8f_row18_col0\" class=\"data row18 col0\" >yer</td>\n      <td id=\"T_50b8f_row18_col1\" class=\"data row18 col1\" >26963</td>\n    </tr>\n    <tr>\n      <th id=\"T_50b8f_level0_row19\" class=\"row_heading level0 row19\" >19</th>\n      <td id=\"T_50b8f_row19_col0\" class=\"data row19 col0\" >olma</td>\n      <td id=\"T_50b8f_row19_col1\" class=\"data row19 col1\" >26422</td>\n    </tr>\n  </tbody>\n</table>\n"
     },
     "execution_count": 56,
     "metadata": {},
     "output_type": "execute_result"
    }
   ],
   "source": [
    "train['temp_list'] = train['text'].apply(lambda x:str(x).split())\n",
    "top = Counter([item for sublist in train['temp_list'] for item in sublist])\n",
    "temp = pd.DataFrame(top.most_common(20))\n",
    "temp.columns = ['Common_words','count']\n",
    "temp.style.background_gradient(cmap='Blues')"
   ],
   "metadata": {
    "collapsed": false
   }
  },
  {
   "cell_type": "code",
   "execution_count": 21,
   "outputs": [],
   "source": [
    "test.to_csv('stemmed_test.csv')\n",
    "train.to_csv('stemmed_train.csv')"
   ],
   "metadata": {
    "collapsed": false
   }
  }
 ],
 "metadata": {
  "kernelspec": {
   "display_name": "Python 3",
   "language": "python",
   "name": "python3"
  },
  "language_info": {
   "codemirror_mode": {
    "name": "ipython",
    "version": 2
   },
   "file_extension": ".py",
   "mimetype": "text/x-python",
   "name": "python",
   "nbconvert_exporter": "python",
   "pygments_lexer": "ipython2",
   "version": "2.7.6"
  }
 },
 "nbformat": 4,
 "nbformat_minor": 0
}
