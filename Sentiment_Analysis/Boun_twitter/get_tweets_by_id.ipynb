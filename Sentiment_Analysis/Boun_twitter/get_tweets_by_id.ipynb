{
 "cells": [
  {
   "cell_type": "code",
   "execution_count": 2,
   "metadata": {
    "collapsed": true
   },
   "outputs": [],
   "source": [
    "import pandas as pd\n",
    "import requests\n",
    "from bs4 import BeautifulSoup\n",
    "import webbrowser\n",
    "import json"
   ]
  },
  {
   "cell_type": "code",
   "execution_count": 3,
   "outputs": [
    {
     "data": {
      "text/plain": "                      id     value\n0     603539206925852674  positive\n1     446319356814041000  positive\n2     972759810176438272  positive\n3     508238219503083522  positive\n4     975097895077732362  positive\n...                  ...       ...\n5728  495716894247493632   neutral\n5729  673224960907849728   neutral\n5730  971733267731927041   neutral\n5731  503570841553362944   neutral\n5732  595318310658547000   neutral\n\n[5733 rows x 2 columns]",
      "text/html": "<div>\n<style scoped>\n    .dataframe tbody tr th:only-of-type {\n        vertical-align: middle;\n    }\n\n    .dataframe tbody tr th {\n        vertical-align: top;\n    }\n\n    .dataframe thead th {\n        text-align: right;\n    }\n</style>\n<table border=\"1\" class=\"dataframe\">\n  <thead>\n    <tr style=\"text-align: right;\">\n      <th></th>\n      <th>id</th>\n      <th>value</th>\n    </tr>\n  </thead>\n  <tbody>\n    <tr>\n      <th>0</th>\n      <td>603539206925852674</td>\n      <td>positive</td>\n    </tr>\n    <tr>\n      <th>1</th>\n      <td>446319356814041000</td>\n      <td>positive</td>\n    </tr>\n    <tr>\n      <th>2</th>\n      <td>972759810176438272</td>\n      <td>positive</td>\n    </tr>\n    <tr>\n      <th>3</th>\n      <td>508238219503083522</td>\n      <td>positive</td>\n    </tr>\n    <tr>\n      <th>4</th>\n      <td>975097895077732362</td>\n      <td>positive</td>\n    </tr>\n    <tr>\n      <th>...</th>\n      <td>...</td>\n      <td>...</td>\n    </tr>\n    <tr>\n      <th>5728</th>\n      <td>495716894247493632</td>\n      <td>neutral</td>\n    </tr>\n    <tr>\n      <th>5729</th>\n      <td>673224960907849728</td>\n      <td>neutral</td>\n    </tr>\n    <tr>\n      <th>5730</th>\n      <td>971733267731927041</td>\n      <td>neutral</td>\n    </tr>\n    <tr>\n      <th>5731</th>\n      <td>503570841553362944</td>\n      <td>neutral</td>\n    </tr>\n    <tr>\n      <th>5732</th>\n      <td>595318310658547000</td>\n      <td>neutral</td>\n    </tr>\n  </tbody>\n</table>\n<p>5733 rows × 2 columns</p>\n</div>"
     },
     "execution_count": 3,
     "metadata": {},
     "output_type": "execute_result"
    }
   ],
   "source": [
    "with open('./tweet_id/train.json') as f:\n",
    "    train_json = json.load(f)\n",
    "train = pd.DataFrame(train_json)\n",
    "train"
   ],
   "metadata": {
    "collapsed": false
   }
  },
  {
   "cell_type": "code",
   "execution_count": 4,
   "outputs": [],
   "source": [
    "with open('./tweet_id/test.json') as f:\n",
    "    test_json = json.load(f)\n",
    "test = pd.DataFrame(test_json)\n",
    "with open('./tweet_id/validation.json') as f:\n",
    "    val_json = json.load(f)\n",
    "val = pd.DataFrame(val_json)"
   ],
   "metadata": {
    "collapsed": false
   }
  },
  {
   "cell_type": "code",
   "execution_count": 17,
   "outputs": [],
   "source": [
    "chrome_path=\"C:\\\\Program Files\\\\Google\\\\Chrome\\\\Application\\\\chrome.exe\"\n",
    "webbrowser.register('chrome', None,webbrowser.BackgroundBrowser(chrome_path))\n",
    "wb = webbrowser.get('chrome')"
   ],
   "metadata": {
    "collapsed": false
   }
  },
  {
   "cell_type": "code",
   "execution_count": 18,
   "outputs": [],
   "source": [
    "r1, r2 = 0, 10"
   ],
   "metadata": {
    "collapsed": false
   }
  },
  {
   "cell_type": "code",
   "execution_count": 19,
   "outputs": [],
   "source": [
    "for tr_id in train.id[r1:r2]:\n",
    "    wb.open(f\"twitter.com/anyuser/status/{tr_id}\", new=2)"
   ],
   "metadata": {
    "collapsed": false
   }
  },
  {
   "cell_type": "code",
   "execution_count": null,
   "outputs": [],
   "source": [],
   "metadata": {
    "collapsed": false
   }
  }
 ],
 "metadata": {
  "kernelspec": {
   "display_name": "Python 3",
   "language": "python",
   "name": "python3"
  },
  "language_info": {
   "codemirror_mode": {
    "name": "ipython",
    "version": 2
   },
   "file_extension": ".py",
   "mimetype": "text/x-python",
   "name": "python",
   "nbconvert_exporter": "python",
   "pygments_lexer": "ipython2",
   "version": "2.7.6"
  }
 },
 "nbformat": 4,
 "nbformat_minor": 0
}
