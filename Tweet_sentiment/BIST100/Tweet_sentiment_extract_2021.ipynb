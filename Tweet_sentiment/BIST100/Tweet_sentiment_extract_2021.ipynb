{
 "cells": [
  {
   "cell_type": "code",
   "execution_count": 1,
   "metadata": {},
   "outputs": [],
   "source": [
    "import os\n",
    "\n",
    "import pandas as pd\n",
    "from transformers import AutoTokenizer\n",
    "from transformers import AutoModelForSequenceClassification, Trainer\n",
    "import torch\n",
    "from pathlib import Path\n",
    "import numpy as np"
   ]
  },
  {
   "cell_type": "code",
   "execution_count": 2,
   "metadata": {},
   "outputs": [
    {
     "data": {
      "text/plain": [
       "True"
      ]
     },
     "execution_count": 2,
     "metadata": {},
     "output_type": "execute_result"
    }
   ],
   "source": [
    "torch.cuda.is_available()"
   ]
  },
  {
   "cell_type": "code",
   "execution_count": 3,
   "metadata": {},
   "outputs": [],
   "source": [
    "MODEL = '../../Sentiment_Analysis/turkish-sentiment-XMLRoBERTa/2_Label_Twitter/'"
   ]
  },
  {
   "cell_type": "code",
   "execution_count": 4,
   "metadata": {},
   "outputs": [],
   "source": [
    "tokenizer = AutoTokenizer.from_pretrained('cardiffnlp/twitter-xlm-roberta-base', use_fast=True)"
   ]
  },
  {
   "cell_type": "code",
   "execution_count": 5,
   "metadata": {},
   "outputs": [],
   "source": [
    "data = pd.read_csv(f'../../StockAndTweetDataExtract/Bist100/2021/tweet_part0.csv')\n",
    "for i in range(1,6):\n",
    "    data = pd.concat([data, pd.read_csv(f'../../StockAndTweetDataExtract/Bist100/2021/tweet_part{i}.csv')])"
   ]
  },
  {
   "cell_type": "code",
   "execution_count": 6,
   "metadata": {},
   "outputs": [
    {
     "data": {
      "text/html": [
       "<div>\n",
       "<style scoped>\n",
       "    .dataframe tbody tr th:only-of-type {\n",
       "        vertical-align: middle;\n",
       "    }\n",
       "\n",
       "    .dataframe tbody tr th {\n",
       "        vertical-align: top;\n",
       "    }\n",
       "\n",
       "    .dataframe thead th {\n",
       "        text-align: right;\n",
       "    }\n",
       "</style>\n",
       "<table border=\"1\" class=\"dataframe\">\n",
       "  <thead>\n",
       "    <tr style=\"text-align: right;\">\n",
       "      <th></th>\n",
       "      <th>Date</th>\n",
       "      <th>User</th>\n",
       "      <th>Tweet</th>\n",
       "    </tr>\n",
       "  </thead>\n",
       "  <tbody>\n",
       "    <tr>\n",
       "      <th>0</th>\n",
       "      <td>2021-02-28 23:38:10+00:00</td>\n",
       "      <td>bogagrafikleri</td>\n",
       "      <td>#bıst100 #endeks eğitim çalışmasıdır, yatırım ...</td>\n",
       "    </tr>\n",
       "    <tr>\n",
       "      <th>1</th>\n",
       "      <td>2021-02-28 23:34:27+00:00</td>\n",
       "      <td>byhasanyilmaz</td>\n",
       "      <td>Sabaha kadar piyasa bozmazsa 1485 civarinda aç...</td>\n",
       "    </tr>\n",
       "    <tr>\n",
       "      <th>2</th>\n",
       "      <td>2021-02-28 23:01:19+00:00</td>\n",
       "      <td>Ayhanmg34</td>\n",
       "      <td>ağalar paşalar kendilerine baksınlar sümük old...</td>\n",
       "    </tr>\n",
       "    <tr>\n",
       "      <th>3</th>\n",
       "      <td>2021-02-28 22:58:40+00:00</td>\n",
       "      <td>Ayhanmg34</td>\n",
       "      <td>#bist100 #BIST30 #bist yarın yön belli demeyi ...</td>\n",
       "    </tr>\n",
       "    <tr>\n",
       "      <th>4</th>\n",
       "      <td>2021-02-28 22:41:14+00:00</td>\n",
       "      <td>sherloc11872501</td>\n",
       "      <td>Abd 10 yillik tahvillerinde yon asagi #bist #b...</td>\n",
       "    </tr>\n",
       "    <tr>\n",
       "      <th>...</th>\n",
       "      <td>...</td>\n",
       "      <td>...</td>\n",
       "      <td>...</td>\n",
       "    </tr>\n",
       "    <tr>\n",
       "      <th>43427</th>\n",
       "      <td>2021-11-01 02:02:04+00:00</td>\n",
       "      <td>Haber34I</td>\n",
       "      <td>Mohammed Alsaloussi'den ayrılan Şeyma Subaşı’n...</td>\n",
       "    </tr>\n",
       "    <tr>\n",
       "      <th>43428</th>\n",
       "      <td>2021-11-01 01:38:18+00:00</td>\n",
       "      <td>OZGUR_KUS31</td>\n",
       "      <td>@zeynepxaktas #bist100 #kordsa birgün herkes k...</td>\n",
       "    </tr>\n",
       "    <tr>\n",
       "      <th>43429</th>\n",
       "      <td>2021-11-01 00:48:52+00:00</td>\n",
       "      <td>MR_Guclu_</td>\n",
       "      <td>#snpam #XU100 #BIST30 #bist #bist100 \\nAna tre...</td>\n",
       "    </tr>\n",
       "    <tr>\n",
       "      <th>43430</th>\n",
       "      <td>2021-11-01 00:32:27+00:00</td>\n",
       "      <td>kuzeyborsa</td>\n",
       "      <td>Haftalık Takip Listem=01.11.2021=\\n#VAKKO =9,3...</td>\n",
       "    </tr>\n",
       "    <tr>\n",
       "      <th>43431</th>\n",
       "      <td>2021-11-01 00:16:57+00:00</td>\n",
       "      <td>MR_Guclu_</td>\n",
       "      <td>#gözde #XU100 #BIST30 #bist #bist100 https://t...</td>\n",
       "    </tr>\n",
       "  </tbody>\n",
       "</table>\n",
       "<p>276449 rows × 3 columns</p>\n",
       "</div>"
      ],
      "text/plain": [
       "                            Date             User  \\\n",
       "0      2021-02-28 23:38:10+00:00   bogagrafikleri   \n",
       "1      2021-02-28 23:34:27+00:00    byhasanyilmaz   \n",
       "2      2021-02-28 23:01:19+00:00        Ayhanmg34   \n",
       "3      2021-02-28 22:58:40+00:00        Ayhanmg34   \n",
       "4      2021-02-28 22:41:14+00:00  sherloc11872501   \n",
       "...                          ...              ...   \n",
       "43427  2021-11-01 02:02:04+00:00         Haber34I   \n",
       "43428  2021-11-01 01:38:18+00:00      OZGUR_KUS31   \n",
       "43429  2021-11-01 00:48:52+00:00        MR_Guclu_   \n",
       "43430  2021-11-01 00:32:27+00:00       kuzeyborsa   \n",
       "43431  2021-11-01 00:16:57+00:00        MR_Guclu_   \n",
       "\n",
       "                                                   Tweet  \n",
       "0      #bıst100 #endeks eğitim çalışmasıdır, yatırım ...  \n",
       "1      Sabaha kadar piyasa bozmazsa 1485 civarinda aç...  \n",
       "2      ağalar paşalar kendilerine baksınlar sümük old...  \n",
       "3      #bist100 #BIST30 #bist yarın yön belli demeyi ...  \n",
       "4      Abd 10 yillik tahvillerinde yon asagi #bist #b...  \n",
       "...                                                  ...  \n",
       "43427  Mohammed Alsaloussi'den ayrılan Şeyma Subaşı’n...  \n",
       "43428  @zeynepxaktas #bist100 #kordsa birgün herkes k...  \n",
       "43429  #snpam #XU100 #BIST30 #bist #bist100 \\nAna tre...  \n",
       "43430  Haftalık Takip Listem=01.11.2021=\\n#VAKKO =9,3...  \n",
       "43431  #gözde #XU100 #BIST30 #bist #bist100 https://t...  \n",
       "\n",
       "[276449 rows x 3 columns]"
      ]
     },
     "execution_count": 6,
     "metadata": {},
     "output_type": "execute_result"
    }
   ],
   "source": [
    "data.drop_duplicates(subset=['Tweet'])\n",
    "data"
   ]
  },
  {
   "cell_type": "code",
   "execution_count": 7,
   "metadata": {},
   "outputs": [
    {
     "data": {
      "text/plain": [
       "0        [input_ids, attention_mask]\n",
       "1        [input_ids, attention_mask]\n",
       "2        [input_ids, attention_mask]\n",
       "3        [input_ids, attention_mask]\n",
       "4        [input_ids, attention_mask]\n",
       "                    ...             \n",
       "43427    [input_ids, attention_mask]\n",
       "43428    [input_ids, attention_mask]\n",
       "43429    [input_ids, attention_mask]\n",
       "43430    [input_ids, attention_mask]\n",
       "43431    [input_ids, attention_mask]\n",
       "Name: Tweet, Length: 276449, dtype: object"
      ]
     },
     "execution_count": 7,
     "metadata": {},
     "output_type": "execute_result"
    }
   ],
   "source": [
    "data_p = data.Tweet.apply(lambda x: tokenizer(x, truncation=True, padding='max_length', max_length=256))\n",
    "data_p"
   ]
  },
  {
   "cell_type": "code",
   "execution_count": 8,
   "metadata": {},
   "outputs": [],
   "source": [
    "data['Tweet'] = data_p\n",
    "data_p = 0"
   ]
  },
  {
   "cell_type": "code",
   "execution_count": 9,
   "metadata": {},
   "outputs": [],
   "source": [
    "model = AutoModelForSequenceClassification.from_pretrained(MODEL, num_labels=2)\n",
    "classifier = Trainer(model)"
   ]
  },
  {
   "cell_type": "code",
   "execution_count": 10,
   "metadata": {},
   "outputs": [],
   "source": [
    "class MyDataset(torch.utils.data.Dataset):\n",
    "    def __init__(self, encodings):\n",
    "        self.encodings = encodings['Tweet']\n",
    "\n",
    "    def __getitem__(self, idx):\n",
    "        item = {\"input_ids\": torch.tensor(self.encodings.iloc[idx][\"input_ids\"])}\n",
    "        item['attention_mask'] = torch.tensor(self.encodings.iloc[idx][\"attention_mask\"])\n",
    "        return item\n",
    "\n",
    "    def __len__(self):\n",
    "        return len(self.encodings)\n",
    "\n",
    "dataset = MyDataset(data)"
   ]
  },
  {
   "cell_type": "code",
   "execution_count": 11,
   "metadata": {},
   "outputs": [
    {
     "name": "stderr",
     "output_type": "stream",
     "text": [
      "***** Running Prediction *****\n",
      "  Num examples = 276449\n",
      "  Batch size = 8\n"
     ]
    },
    {
     "data": {
      "text/html": [],
      "text/plain": [
       "<IPython.core.display.HTML object>"
      ]
     },
     "metadata": {},
     "output_type": "display_data"
    }
   ],
   "source": [
    "test_preds_raw, test_labels , _ = classifier.predict(dataset)"
   ]
  },
  {
   "cell_type": "code",
   "execution_count": 12,
   "metadata": {},
   "outputs": [
    {
     "data": {
      "text/html": [
       "<div>\n",
       "<style scoped>\n",
       "    .dataframe tbody tr th:only-of-type {\n",
       "        vertical-align: middle;\n",
       "    }\n",
       "\n",
       "    .dataframe tbody tr th {\n",
       "        vertical-align: top;\n",
       "    }\n",
       "\n",
       "    .dataframe thead th {\n",
       "        text-align: right;\n",
       "    }\n",
       "</style>\n",
       "<table border=\"1\" class=\"dataframe\">\n",
       "  <thead>\n",
       "    <tr style=\"text-align: right;\">\n",
       "      <th></th>\n",
       "      <th>Date</th>\n",
       "      <th>Sentiment</th>\n",
       "    </tr>\n",
       "  </thead>\n",
       "  <tbody>\n",
       "    <tr>\n",
       "      <th>0</th>\n",
       "      <td>2021-02-28 23:38:10+00:00</td>\n",
       "      <td>0</td>\n",
       "    </tr>\n",
       "    <tr>\n",
       "      <th>1</th>\n",
       "      <td>2021-02-28 23:34:27+00:00</td>\n",
       "      <td>1</td>\n",
       "    </tr>\n",
       "    <tr>\n",
       "      <th>2</th>\n",
       "      <td>2021-02-28 23:01:19+00:00</td>\n",
       "      <td>0</td>\n",
       "    </tr>\n",
       "    <tr>\n",
       "      <th>3</th>\n",
       "      <td>2021-02-28 22:58:40+00:00</td>\n",
       "      <td>0</td>\n",
       "    </tr>\n",
       "    <tr>\n",
       "      <th>4</th>\n",
       "      <td>2021-02-28 22:41:14+00:00</td>\n",
       "      <td>1</td>\n",
       "    </tr>\n",
       "    <tr>\n",
       "      <th>...</th>\n",
       "      <td>...</td>\n",
       "      <td>...</td>\n",
       "    </tr>\n",
       "    <tr>\n",
       "      <th>276444</th>\n",
       "      <td>2021-11-01 02:02:04+00:00</td>\n",
       "      <td>0</td>\n",
       "    </tr>\n",
       "    <tr>\n",
       "      <th>276445</th>\n",
       "      <td>2021-11-01 01:38:18+00:00</td>\n",
       "      <td>1</td>\n",
       "    </tr>\n",
       "    <tr>\n",
       "      <th>276446</th>\n",
       "      <td>2021-11-01 00:48:52+00:00</td>\n",
       "      <td>1</td>\n",
       "    </tr>\n",
       "    <tr>\n",
       "      <th>276447</th>\n",
       "      <td>2021-11-01 00:32:27+00:00</td>\n",
       "      <td>0</td>\n",
       "    </tr>\n",
       "    <tr>\n",
       "      <th>276448</th>\n",
       "      <td>2021-11-01 00:16:57+00:00</td>\n",
       "      <td>1</td>\n",
       "    </tr>\n",
       "  </tbody>\n",
       "</table>\n",
       "<p>276449 rows × 2 columns</p>\n",
       "</div>"
      ],
      "text/plain": [
       "                             Date  Sentiment\n",
       "0       2021-02-28 23:38:10+00:00          0\n",
       "1       2021-02-28 23:34:27+00:00          1\n",
       "2       2021-02-28 23:01:19+00:00          0\n",
       "3       2021-02-28 22:58:40+00:00          0\n",
       "4       2021-02-28 22:41:14+00:00          1\n",
       "...                           ...        ...\n",
       "276444  2021-11-01 02:02:04+00:00          0\n",
       "276445  2021-11-01 01:38:18+00:00          1\n",
       "276446  2021-11-01 00:48:52+00:00          1\n",
       "276447  2021-11-01 00:32:27+00:00          0\n",
       "276448  2021-11-01 00:16:57+00:00          1\n",
       "\n",
       "[276449 rows x 2 columns]"
      ]
     },
     "execution_count": 12,
     "metadata": {},
     "output_type": "execute_result"
    }
   ],
   "source": [
    "final_data = pd.concat([data['Date'].reset_index(drop=True), pd.DataFrame(np.argmax(test_preds_raw, axis=-1), columns=['Sentiment'])], axis=1)\n",
    "final_data"
   ]
  },
  {
   "cell_type": "code",
   "execution_count": 13,
   "metadata": {},
   "outputs": [],
   "source": [
    "final_data.to_csv('2021.csv')"
   ]
  }
 ],
 "metadata": {
  "kernelspec": {
   "display_name": "Python 3 (ipykernel)",
   "language": "python",
   "name": "python3"
  },
  "language_info": {
   "codemirror_mode": {
    "name": "ipython",
    "version": 3
   },
   "file_extension": ".py",
   "mimetype": "text/x-python",
   "name": "python",
   "nbconvert_exporter": "python",
   "pygments_lexer": "ipython3",
   "version": "3.9.12"
  }
 },
 "nbformat": 4,
 "nbformat_minor": 1
}
