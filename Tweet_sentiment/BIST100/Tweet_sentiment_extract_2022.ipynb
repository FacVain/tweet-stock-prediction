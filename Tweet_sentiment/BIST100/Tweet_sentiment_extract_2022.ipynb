{
 "cells": [
  {
   "cell_type": "code",
   "execution_count": 17,
   "metadata": {},
   "outputs": [],
   "source": [
    "import os\n",
    "\n",
    "import pandas as pd\n",
    "from transformers import AutoTokenizer\n",
    "from transformers import AutoModelForSequenceClassification, Trainer\n",
    "import torch\n",
    "from pathlib import Path\n",
    "import numpy as np"
   ]
  },
  {
   "cell_type": "code",
   "execution_count": 2,
   "metadata": {},
   "outputs": [
    {
     "data": {
      "text/plain": [
       "True"
      ]
     },
     "execution_count": 2,
     "metadata": {},
     "output_type": "execute_result"
    }
   ],
   "source": [
    "torch.cuda.is_available()"
   ]
  },
  {
   "cell_type": "code",
   "execution_count": 3,
   "metadata": {},
   "outputs": [],
   "source": [
    "MODEL = '../../Sentiment_Analysis/turkish-sentiment-XMLRoBERTa/2_Label_Twitter/'"
   ]
  },
  {
   "cell_type": "code",
   "execution_count": 4,
   "metadata": {},
   "outputs": [],
   "source": [
    "tokenizer = AutoTokenizer.from_pretrained('cardiffnlp/twitter-xlm-roberta-base', use_fast=True)"
   ]
  },
  {
   "cell_type": "code",
   "execution_count": 5,
   "metadata": {},
   "outputs": [],
   "source": [
    "data = pd.read_csv(f'../../StockAndTweetDataExtract/Bist100/2022/tweet_part1.csv')\n",
    "for i in range(2,4):\n",
    "    data = pd.concat([data, pd.read_csv(f'../../StockAndTweetDataExtract/Bist100/2022/tweet_part{i}.csv')])"
   ]
  },
  {
   "cell_type": "code",
   "execution_count": 6,
   "metadata": {},
   "outputs": [
    {
     "data": {
      "text/html": [
       "<div>\n",
       "<style scoped>\n",
       "    .dataframe tbody tr th:only-of-type {\n",
       "        vertical-align: middle;\n",
       "    }\n",
       "\n",
       "    .dataframe tbody tr th {\n",
       "        vertical-align: top;\n",
       "    }\n",
       "\n",
       "    .dataframe thead th {\n",
       "        text-align: right;\n",
       "    }\n",
       "</style>\n",
       "<table border=\"1\" class=\"dataframe\">\n",
       "  <thead>\n",
       "    <tr style=\"text-align: right;\">\n",
       "      <th></th>\n",
       "      <th>Date</th>\n",
       "      <th>User</th>\n",
       "      <th>Tweet</th>\n",
       "    </tr>\n",
       "  </thead>\n",
       "  <tbody>\n",
       "    <tr>\n",
       "      <th>0</th>\n",
       "      <td>2022-10-18 23:55:27+00:00</td>\n",
       "      <td>MikroTrader_</td>\n",
       "      <td>#vestl karışık çizimler ile nadir yapılan bir ...</td>\n",
       "    </tr>\n",
       "    <tr>\n",
       "      <th>1</th>\n",
       "      <td>2022-10-18 23:30:25+00:00</td>\n",
       "      <td>akaya006</td>\n",
       "      <td>#ygyo  akıl suzgecinizden gecirin #bist100 #BI...</td>\n",
       "    </tr>\n",
       "    <tr>\n",
       "      <th>2</th>\n",
       "      <td>2022-10-18 23:26:47+00:00</td>\n",
       "      <td>muratkazan55</td>\n",
       "      <td>@erhantayfur1648 Bizim kitabımızda nakite geçm...</td>\n",
       "    </tr>\n",
       "    <tr>\n",
       "      <th>3</th>\n",
       "      <td>2022-10-18 23:16:40+00:00</td>\n",
       "      <td>firattsahin</td>\n",
       "      <td>18.10.2022 tarihinde 50,85 -53,90 TL fiyat ara...</td>\n",
       "    </tr>\n",
       "    <tr>\n",
       "      <th>4</th>\n",
       "      <td>2022-10-18 23:12:58+00:00</td>\n",
       "      <td>seans_borsa</td>\n",
       "      <td>Borsa İstanbul günü yatay seyirde kapattı\\n #B...</td>\n",
       "    </tr>\n",
       "    <tr>\n",
       "      <th>...</th>\n",
       "      <td>...</td>\n",
       "      <td>...</td>\n",
       "      <td>...</td>\n",
       "    </tr>\n",
       "    <tr>\n",
       "      <th>543</th>\n",
       "      <td>2022-03-18 02:30:22+00:00</td>\n",
       "      <td>ForexNewss</td>\n",
       "      <td>ABD Başkanı Biden, Çin Devlet Başkanı Xi ile 1...</td>\n",
       "    </tr>\n",
       "    <tr>\n",
       "      <th>544</th>\n",
       "      <td>2022-03-18 02:00:39+00:00</td>\n",
       "      <td>hisseneoldu</td>\n",
       "      <td>⏰ 05:00  \\n📊 TUPRS =  ₺ \\n#tuprs #borsa #bist100</td>\n",
       "    </tr>\n",
       "    <tr>\n",
       "      <th>545</th>\n",
       "      <td>2022-03-18 01:38:45+00:00</td>\n",
       "      <td>trend_is_frnd</td>\n",
       "      <td>#tknsa bu ucgen kirildiktan sonra , tahtaci ne...</td>\n",
       "    </tr>\n",
       "    <tr>\n",
       "      <th>546</th>\n",
       "      <td>2022-03-18 01:21:08+00:00</td>\n",
       "      <td>ForexNewss</td>\n",
       "      <td>ABD basınında çıkan haberlere göre Putin, isti...</td>\n",
       "    </tr>\n",
       "    <tr>\n",
       "      <th>547</th>\n",
       "      <td>2022-03-18 00:14:34+00:00</td>\n",
       "      <td>LansTurbu</td>\n",
       "      <td>#Xu100 #bist100 destek üzerinde endeks güzel. ...</td>\n",
       "    </tr>\n",
       "  </tbody>\n",
       "</table>\n",
       "<p>301706 rows × 3 columns</p>\n",
       "</div>"
      ],
      "text/plain": [
       "                          Date           User  \\\n",
       "0    2022-10-18 23:55:27+00:00   MikroTrader_   \n",
       "1    2022-10-18 23:30:25+00:00       akaya006   \n",
       "2    2022-10-18 23:26:47+00:00   muratkazan55   \n",
       "3    2022-10-18 23:16:40+00:00    firattsahin   \n",
       "4    2022-10-18 23:12:58+00:00    seans_borsa   \n",
       "..                         ...            ...   \n",
       "543  2022-03-18 02:30:22+00:00     ForexNewss   \n",
       "544  2022-03-18 02:00:39+00:00    hisseneoldu   \n",
       "545  2022-03-18 01:38:45+00:00  trend_is_frnd   \n",
       "546  2022-03-18 01:21:08+00:00     ForexNewss   \n",
       "547  2022-03-18 00:14:34+00:00      LansTurbu   \n",
       "\n",
       "                                                 Tweet  \n",
       "0    #vestl karışık çizimler ile nadir yapılan bir ...  \n",
       "1    #ygyo  akıl suzgecinizden gecirin #bist100 #BI...  \n",
       "2    @erhantayfur1648 Bizim kitabımızda nakite geçm...  \n",
       "3    18.10.2022 tarihinde 50,85 -53,90 TL fiyat ara...  \n",
       "4    Borsa İstanbul günü yatay seyirde kapattı\\n #B...  \n",
       "..                                                 ...  \n",
       "543  ABD Başkanı Biden, Çin Devlet Başkanı Xi ile 1...  \n",
       "544   ⏰ 05:00  \\n📊 TUPRS =  ₺ \\n#tuprs #borsa #bist100  \n",
       "545  #tknsa bu ucgen kirildiktan sonra , tahtaci ne...  \n",
       "546  ABD basınında çıkan haberlere göre Putin, isti...  \n",
       "547  #Xu100 #bist100 destek üzerinde endeks güzel. ...  \n",
       "\n",
       "[301706 rows x 3 columns]"
      ]
     },
     "execution_count": 6,
     "metadata": {},
     "output_type": "execute_result"
    }
   ],
   "source": [
    "data.drop_duplicates(subset=['Tweet'])\n",
    "data"
   ]
  },
  {
   "cell_type": "code",
   "execution_count": 7,
   "metadata": {},
   "outputs": [
    {
     "data": {
      "text/plain": [
       "0      [input_ids, attention_mask]\n",
       "1      [input_ids, attention_mask]\n",
       "2      [input_ids, attention_mask]\n",
       "3      [input_ids, attention_mask]\n",
       "4      [input_ids, attention_mask]\n",
       "                  ...             \n",
       "543    [input_ids, attention_mask]\n",
       "544    [input_ids, attention_mask]\n",
       "545    [input_ids, attention_mask]\n",
       "546    [input_ids, attention_mask]\n",
       "547    [input_ids, attention_mask]\n",
       "Name: Tweet, Length: 301706, dtype: object"
      ]
     },
     "execution_count": 7,
     "metadata": {},
     "output_type": "execute_result"
    }
   ],
   "source": [
    "data_p = data.Tweet.apply(lambda x: tokenizer(x, truncation=True, padding='max_length', max_length=256))\n",
    "data_p"
   ]
  },
  {
   "cell_type": "code",
   "execution_count": 8,
   "metadata": {},
   "outputs": [],
   "source": [
    "data['Tweet'] = data_p\n",
    "data_p = 0"
   ]
  },
  {
   "cell_type": "code",
   "execution_count": 9,
   "metadata": {},
   "outputs": [],
   "source": [
    "model = AutoModelForSequenceClassification.from_pretrained(MODEL, num_labels=2)\n",
    "classifier = Trainer(model)"
   ]
  },
  {
   "cell_type": "code",
   "execution_count": 10,
   "metadata": {},
   "outputs": [],
   "source": [
    "class MyDataset(torch.utils.data.Dataset):\n",
    "    def __init__(self, encodings):\n",
    "        self.encodings = encodings['Tweet']\n",
    "\n",
    "    def __getitem__(self, idx):\n",
    "        item = {\"input_ids\": torch.tensor(self.encodings.iloc[idx][\"input_ids\"])}\n",
    "        item['attention_mask'] = torch.tensor(self.encodings.iloc[idx][\"attention_mask\"])\n",
    "        return item\n",
    "\n",
    "    def __len__(self):\n",
    "        return len(self.encodings)\n",
    "\n",
    "dataset = MyDataset(data)"
   ]
  },
  {
   "cell_type": "code",
   "execution_count": 11,
   "metadata": {},
   "outputs": [
    {
     "name": "stderr",
     "output_type": "stream",
     "text": [
      "***** Running Prediction *****\n",
      "  Num examples = 301706\n",
      "  Batch size = 8\n"
     ]
    },
    {
     "data": {
      "text/html": [],
      "text/plain": [
       "<IPython.core.display.HTML object>"
      ]
     },
     "metadata": {},
     "output_type": "display_data"
    }
   ],
   "source": [
    "test_preds_raw, test_labels , _ = classifier.predict(dataset)"
   ]
  },
  {
   "cell_type": "code",
   "execution_count": 16,
   "metadata": {},
   "outputs": [
    {
     "data": {
      "text/plain": [
       "array([-1.8322736,  1.9635969], dtype=float32)"
      ]
     },
     "execution_count": 16,
     "metadata": {},
     "output_type": "execute_result"
    }
   ],
   "source": [
    "test_preds_raw[301705]"
   ]
  },
  {
   "cell_type": "code",
   "execution_count": 35,
   "metadata": {},
   "outputs": [
    {
     "data": {
      "text/html": [
       "<div>\n",
       "<style scoped>\n",
       "    .dataframe tbody tr th:only-of-type {\n",
       "        vertical-align: middle;\n",
       "    }\n",
       "\n",
       "    .dataframe tbody tr th {\n",
       "        vertical-align: top;\n",
       "    }\n",
       "\n",
       "    .dataframe thead th {\n",
       "        text-align: right;\n",
       "    }\n",
       "</style>\n",
       "<table border=\"1\" class=\"dataframe\">\n",
       "  <thead>\n",
       "    <tr style=\"text-align: right;\">\n",
       "      <th></th>\n",
       "      <th>Date</th>\n",
       "      <th>Sentiment</th>\n",
       "    </tr>\n",
       "  </thead>\n",
       "  <tbody>\n",
       "    <tr>\n",
       "      <th>0</th>\n",
       "      <td>2022-10-18 23:55:27+00:00</td>\n",
       "      <td>0</td>\n",
       "    </tr>\n",
       "    <tr>\n",
       "      <th>1</th>\n",
       "      <td>2022-10-18 23:30:25+00:00</td>\n",
       "      <td>1</td>\n",
       "    </tr>\n",
       "    <tr>\n",
       "      <th>2</th>\n",
       "      <td>2022-10-18 23:26:47+00:00</td>\n",
       "      <td>1</td>\n",
       "    </tr>\n",
       "    <tr>\n",
       "      <th>3</th>\n",
       "      <td>2022-10-18 23:16:40+00:00</td>\n",
       "      <td>0</td>\n",
       "    </tr>\n",
       "    <tr>\n",
       "      <th>4</th>\n",
       "      <td>2022-10-18 23:12:58+00:00</td>\n",
       "      <td>1</td>\n",
       "    </tr>\n",
       "    <tr>\n",
       "      <th>...</th>\n",
       "      <td>...</td>\n",
       "      <td>...</td>\n",
       "    </tr>\n",
       "    <tr>\n",
       "      <th>301701</th>\n",
       "      <td>2022-03-18 02:30:22+00:00</td>\n",
       "      <td>1</td>\n",
       "    </tr>\n",
       "    <tr>\n",
       "      <th>301702</th>\n",
       "      <td>2022-03-18 02:00:39+00:00</td>\n",
       "      <td>0</td>\n",
       "    </tr>\n",
       "    <tr>\n",
       "      <th>301703</th>\n",
       "      <td>2022-03-18 01:38:45+00:00</td>\n",
       "      <td>1</td>\n",
       "    </tr>\n",
       "    <tr>\n",
       "      <th>301704</th>\n",
       "      <td>2022-03-18 01:21:08+00:00</td>\n",
       "      <td>0</td>\n",
       "    </tr>\n",
       "    <tr>\n",
       "      <th>301705</th>\n",
       "      <td>2022-03-18 00:14:34+00:00</td>\n",
       "      <td>1</td>\n",
       "    </tr>\n",
       "  </tbody>\n",
       "</table>\n",
       "<p>301706 rows × 2 columns</p>\n",
       "</div>"
      ],
      "text/plain": [
       "                             Date  Sentiment\n",
       "0       2022-10-18 23:55:27+00:00          0\n",
       "1       2022-10-18 23:30:25+00:00          1\n",
       "2       2022-10-18 23:26:47+00:00          1\n",
       "3       2022-10-18 23:16:40+00:00          0\n",
       "4       2022-10-18 23:12:58+00:00          1\n",
       "...                           ...        ...\n",
       "301701  2022-03-18 02:30:22+00:00          1\n",
       "301702  2022-03-18 02:00:39+00:00          0\n",
       "301703  2022-03-18 01:38:45+00:00          1\n",
       "301704  2022-03-18 01:21:08+00:00          0\n",
       "301705  2022-03-18 00:14:34+00:00          1\n",
       "\n",
       "[301706 rows x 2 columns]"
      ]
     },
     "execution_count": 35,
     "metadata": {},
     "output_type": "execute_result"
    }
   ],
   "source": [
    "final_data = pd.concat([data['Date'].reset_index(drop=True), pd.DataFrame(np.argmax(test_preds_raw, axis=-1), columns=['Sentiment'])], axis=1)\n",
    "final_data"
   ]
  },
  {
   "cell_type": "code",
   "execution_count": null,
   "metadata": {},
   "outputs": [],
   "source": [
    "final_data.to_csv('2022.csv')"
   ]
  }
 ],
 "metadata": {
  "kernelspec": {
   "display_name": "Python 3 (ipykernel)",
   "language": "python",
   "name": "python3"
  },
  "language_info": {
   "codemirror_mode": {
    "name": "ipython",
    "version": 3
   },
   "file_extension": ".py",
   "mimetype": "text/x-python",
   "name": "python",
   "nbconvert_exporter": "python",
   "pygments_lexer": "ipython3",
   "version": "3.9.12"
  }
 },
 "nbformat": 4,
 "nbformat_minor": 1
}
