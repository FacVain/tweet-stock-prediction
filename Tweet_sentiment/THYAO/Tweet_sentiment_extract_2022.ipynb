{
 "cells": [
  {
   "cell_type": "code",
   "execution_count": 1,
   "metadata": {},
   "outputs": [],
   "source": [
    "import os\n",
    "\n",
    "import pandas as pd\n",
    "from transformers import AutoTokenizer\n",
    "from transformers import AutoModelForSequenceClassification, Trainer\n",
    "import torch\n",
    "from pathlib import Path\n",
    "import numpy as np"
   ]
  },
  {
   "cell_type": "code",
   "execution_count": 2,
   "metadata": {},
   "outputs": [
    {
     "data": {
      "text/plain": [
       "True"
      ]
     },
     "execution_count": 2,
     "metadata": {},
     "output_type": "execute_result"
    }
   ],
   "source": [
    "torch.cuda.is_available()"
   ]
  },
  {
   "cell_type": "code",
   "execution_count": 3,
   "metadata": {},
   "outputs": [],
   "source": [
    "MODEL = '../../Sentiment_Analysis/turkish-sentiment-XMLRoBERTa/2_Label_Twitter/'"
   ]
  },
  {
   "cell_type": "code",
   "execution_count": 4,
   "metadata": {},
   "outputs": [],
   "source": [
    "tokenizer = AutoTokenizer.from_pretrained('cardiffnlp/twitter-xlm-roberta-base', use_fast=True)"
   ]
  },
  {
   "cell_type": "code",
   "execution_count": 5,
   "metadata": {},
   "outputs": [],
   "source": [
    "data = pd.read_csv(f'../../StockAndTweetDataExtract/THYAO/2022/tweet_part0.csv')\n",
    "for i in range(1,6):\n",
    "    data = pd.concat([data, pd.read_csv(f'../../StockAndTweetDataExtract/THYAO/2022/tweet_part{i}.csv')])"
   ]
  },
  {
   "cell_type": "code",
   "execution_count": 6,
   "metadata": {},
   "outputs": [
    {
     "data": {
      "text/html": [
       "<div>\n",
       "<style scoped>\n",
       "    .dataframe tbody tr th:only-of-type {\n",
       "        vertical-align: middle;\n",
       "    }\n",
       "\n",
       "    .dataframe tbody tr th {\n",
       "        vertical-align: top;\n",
       "    }\n",
       "\n",
       "    .dataframe thead th {\n",
       "        text-align: right;\n",
       "    }\n",
       "</style>\n",
       "<table border=\"1\" class=\"dataframe\">\n",
       "  <thead>\n",
       "    <tr style=\"text-align: right;\">\n",
       "      <th></th>\n",
       "      <th>Date</th>\n",
       "      <th>User</th>\n",
       "      <th>Tweet</th>\n",
       "    </tr>\n",
       "  </thead>\n",
       "  <tbody>\n",
       "    <tr>\n",
       "      <th>0</th>\n",
       "      <td>2022-02-28 23:39:13+00:00</td>\n",
       "      <td>mrtglrx</td>\n",
       "      <td>#thyao herkes rusyaya hava sahasını kapatmışke...</td>\n",
       "    </tr>\n",
       "    <tr>\n",
       "      <th>1</th>\n",
       "      <td>2022-02-28 22:10:28+00:00</td>\n",
       "      <td>sarigulHalill</td>\n",
       "      <td>Biz bunu kendi yanımızda olanlara zamanında ya...</td>\n",
       "    </tr>\n",
       "    <tr>\n",
       "      <th>2</th>\n",
       "      <td>2022-02-28 21:47:32+00:00</td>\n",
       "      <td>tolgaserdar3</td>\n",
       "      <td>#thyao 144 milyonluk Rusya için tüm euro desti...</td>\n",
       "    </tr>\n",
       "    <tr>\n",
       "      <th>3</th>\n",
       "      <td>2022-02-28 21:47:28+00:00</td>\n",
       "      <td>Nazende2011</td>\n",
       "      <td>#thyao \\nBeyin fırtınası yapalım. Tamamen bilg...</td>\n",
       "    </tr>\n",
       "    <tr>\n",
       "      <th>4</th>\n",
       "      <td>2022-02-28 21:40:57+00:00</td>\n",
       "      <td>kydostubist</td>\n",
       "      <td>#thyao https://t.co/HOPAPFnSHY</td>\n",
       "    </tr>\n",
       "    <tr>\n",
       "      <th>...</th>\n",
       "      <td>...</td>\n",
       "      <td>...</td>\n",
       "      <td>...</td>\n",
       "    </tr>\n",
       "    <tr>\n",
       "      <th>449</th>\n",
       "      <td>2022-11-01 00:29:38+00:00</td>\n",
       "      <td>TraderBeyy</td>\n",
       "      <td>#THYAO \\n\\n4 SAATLİK GRAFİK\\n\\n98.50 DESTEK NO...</td>\n",
       "    </tr>\n",
       "    <tr>\n",
       "      <th>450</th>\n",
       "      <td>2022-11-01 00:19:37+00:00</td>\n",
       "      <td>ariftaskaya07</td>\n",
       "      <td>#Vkgyo tekrardan listemde. 2 saatlikte bir dön...</td>\n",
       "    </tr>\n",
       "    <tr>\n",
       "      <th>451</th>\n",
       "      <td>2022-11-01 00:16:49+00:00</td>\n",
       "      <td>Kenan221947581</td>\n",
       "      <td>#BRKSN yazılan çizilen hiçbiri utandırmiyor ma...</td>\n",
       "    </tr>\n",
       "    <tr>\n",
       "      <th>452</th>\n",
       "      <td>2022-11-01 00:07:58+00:00</td>\n",
       "      <td>Kenan221947581</td>\n",
       "      <td>#BOBET daha dün yazdık çizdik bugün maşallahli...</td>\n",
       "    </tr>\n",
       "    <tr>\n",
       "      <th>453</th>\n",
       "      <td>2022-11-01 00:00:41+00:00</td>\n",
       "      <td>hisseneoldu</td>\n",
       "      <td>⏰ 03:00  \\n📊 THYAO = 101,30 ₺ \\n#thyao #borsa ...</td>\n",
       "    </tr>\n",
       "  </tbody>\n",
       "</table>\n",
       "<p>66537 rows × 3 columns</p>\n",
       "</div>"
      ],
      "text/plain": [
       "                          Date            User  \\\n",
       "0    2022-02-28 23:39:13+00:00         mrtglrx   \n",
       "1    2022-02-28 22:10:28+00:00   sarigulHalill   \n",
       "2    2022-02-28 21:47:32+00:00    tolgaserdar3   \n",
       "3    2022-02-28 21:47:28+00:00     Nazende2011   \n",
       "4    2022-02-28 21:40:57+00:00     kydostubist   \n",
       "..                         ...             ...   \n",
       "449  2022-11-01 00:29:38+00:00      TraderBeyy   \n",
       "450  2022-11-01 00:19:37+00:00   ariftaskaya07   \n",
       "451  2022-11-01 00:16:49+00:00  Kenan221947581   \n",
       "452  2022-11-01 00:07:58+00:00  Kenan221947581   \n",
       "453  2022-11-01 00:00:41+00:00     hisseneoldu   \n",
       "\n",
       "                                                 Tweet  \n",
       "0    #thyao herkes rusyaya hava sahasını kapatmışke...  \n",
       "1    Biz bunu kendi yanımızda olanlara zamanında ya...  \n",
       "2    #thyao 144 milyonluk Rusya için tüm euro desti...  \n",
       "3    #thyao \\nBeyin fırtınası yapalım. Tamamen bilg...  \n",
       "4                       #thyao https://t.co/HOPAPFnSHY  \n",
       "..                                                 ...  \n",
       "449  #THYAO \\n\\n4 SAATLİK GRAFİK\\n\\n98.50 DESTEK NO...  \n",
       "450  #Vkgyo tekrardan listemde. 2 saatlikte bir dön...  \n",
       "451  #BRKSN yazılan çizilen hiçbiri utandırmiyor ma...  \n",
       "452  #BOBET daha dün yazdık çizdik bugün maşallahli...  \n",
       "453  ⏰ 03:00  \\n📊 THYAO = 101,30 ₺ \\n#thyao #borsa ...  \n",
       "\n",
       "[66537 rows x 3 columns]"
      ]
     },
     "execution_count": 6,
     "metadata": {},
     "output_type": "execute_result"
    }
   ],
   "source": [
    "data.drop_duplicates(subset=['Tweet'])\n",
    "data"
   ]
  },
  {
   "cell_type": "code",
   "execution_count": 7,
   "metadata": {},
   "outputs": [
    {
     "data": {
      "text/plain": [
       "0      [input_ids, attention_mask]\n",
       "1      [input_ids, attention_mask]\n",
       "2      [input_ids, attention_mask]\n",
       "3      [input_ids, attention_mask]\n",
       "4      [input_ids, attention_mask]\n",
       "                  ...             \n",
       "449    [input_ids, attention_mask]\n",
       "450    [input_ids, attention_mask]\n",
       "451    [input_ids, attention_mask]\n",
       "452    [input_ids, attention_mask]\n",
       "453    [input_ids, attention_mask]\n",
       "Name: Tweet, Length: 66537, dtype: object"
      ]
     },
     "execution_count": 7,
     "metadata": {},
     "output_type": "execute_result"
    }
   ],
   "source": [
    "data_p = data.Tweet.apply(lambda x: tokenizer(x, truncation=True, padding='max_length', max_length=256))\n",
    "data_p"
   ]
  },
  {
   "cell_type": "code",
   "execution_count": 8,
   "metadata": {},
   "outputs": [],
   "source": [
    "data['Tweet'] = data_p\n",
    "data_p = 0"
   ]
  },
  {
   "cell_type": "code",
   "execution_count": 9,
   "metadata": {},
   "outputs": [],
   "source": [
    "model = AutoModelForSequenceClassification.from_pretrained(MODEL, num_labels=2)\n",
    "classifier = Trainer(model)"
   ]
  },
  {
   "cell_type": "code",
   "execution_count": 10,
   "metadata": {},
   "outputs": [],
   "source": [
    "class MyDataset(torch.utils.data.Dataset):\n",
    "    def __init__(self, encodings):\n",
    "        self.encodings = encodings['Tweet']\n",
    "\n",
    "    def __getitem__(self, idx):\n",
    "        item = {\"input_ids\": torch.tensor(self.encodings.iloc[idx][\"input_ids\"])}\n",
    "        item['attention_mask'] = torch.tensor(self.encodings.iloc[idx][\"attention_mask\"])\n",
    "        return item\n",
    "\n",
    "    def __len__(self):\n",
    "        return len(self.encodings)\n",
    "\n",
    "dataset = MyDataset(data)"
   ]
  },
  {
   "cell_type": "code",
   "execution_count": 11,
   "metadata": {},
   "outputs": [
    {
     "name": "stderr",
     "output_type": "stream",
     "text": [
      "***** Running Prediction *****\n",
      "  Num examples = 66537\n",
      "  Batch size = 8\n"
     ]
    },
    {
     "data": {
      "text/html": [],
      "text/plain": [
       "<IPython.core.display.HTML object>"
      ]
     },
     "metadata": {},
     "output_type": "display_data"
    }
   ],
   "source": [
    "test_preds_raw, test_labels , _ = classifier.predict(dataset)"
   ]
  },
  {
   "cell_type": "code",
   "execution_count": 12,
   "metadata": {},
   "outputs": [
    {
     "data": {
      "text/html": [
       "<div>\n",
       "<style scoped>\n",
       "    .dataframe tbody tr th:only-of-type {\n",
       "        vertical-align: middle;\n",
       "    }\n",
       "\n",
       "    .dataframe tbody tr th {\n",
       "        vertical-align: top;\n",
       "    }\n",
       "\n",
       "    .dataframe thead th {\n",
       "        text-align: right;\n",
       "    }\n",
       "</style>\n",
       "<table border=\"1\" class=\"dataframe\">\n",
       "  <thead>\n",
       "    <tr style=\"text-align: right;\">\n",
       "      <th></th>\n",
       "      <th>Date</th>\n",
       "      <th>Sentiment</th>\n",
       "    </tr>\n",
       "  </thead>\n",
       "  <tbody>\n",
       "    <tr>\n",
       "      <th>0</th>\n",
       "      <td>2022-02-28 23:39:13+00:00</td>\n",
       "      <td>0</td>\n",
       "    </tr>\n",
       "    <tr>\n",
       "      <th>1</th>\n",
       "      <td>2022-02-28 22:10:28+00:00</td>\n",
       "      <td>0</td>\n",
       "    </tr>\n",
       "    <tr>\n",
       "      <th>2</th>\n",
       "      <td>2022-02-28 21:47:32+00:00</td>\n",
       "      <td>0</td>\n",
       "    </tr>\n",
       "    <tr>\n",
       "      <th>3</th>\n",
       "      <td>2022-02-28 21:47:28+00:00</td>\n",
       "      <td>0</td>\n",
       "    </tr>\n",
       "    <tr>\n",
       "      <th>4</th>\n",
       "      <td>2022-02-28 21:40:57+00:00</td>\n",
       "      <td>1</td>\n",
       "    </tr>\n",
       "    <tr>\n",
       "      <th>...</th>\n",
       "      <td>...</td>\n",
       "      <td>...</td>\n",
       "    </tr>\n",
       "    <tr>\n",
       "      <th>66532</th>\n",
       "      <td>2022-11-01 00:29:38+00:00</td>\n",
       "      <td>0</td>\n",
       "    </tr>\n",
       "    <tr>\n",
       "      <th>66533</th>\n",
       "      <td>2022-11-01 00:19:37+00:00</td>\n",
       "      <td>1</td>\n",
       "    </tr>\n",
       "    <tr>\n",
       "      <th>66534</th>\n",
       "      <td>2022-11-01 00:16:49+00:00</td>\n",
       "      <td>1</td>\n",
       "    </tr>\n",
       "    <tr>\n",
       "      <th>66535</th>\n",
       "      <td>2022-11-01 00:07:58+00:00</td>\n",
       "      <td>1</td>\n",
       "    </tr>\n",
       "    <tr>\n",
       "      <th>66536</th>\n",
       "      <td>2022-11-01 00:00:41+00:00</td>\n",
       "      <td>0</td>\n",
       "    </tr>\n",
       "  </tbody>\n",
       "</table>\n",
       "<p>66537 rows × 2 columns</p>\n",
       "</div>"
      ],
      "text/plain": [
       "                            Date  Sentiment\n",
       "0      2022-02-28 23:39:13+00:00          0\n",
       "1      2022-02-28 22:10:28+00:00          0\n",
       "2      2022-02-28 21:47:32+00:00          0\n",
       "3      2022-02-28 21:47:28+00:00          0\n",
       "4      2022-02-28 21:40:57+00:00          1\n",
       "...                          ...        ...\n",
       "66532  2022-11-01 00:29:38+00:00          0\n",
       "66533  2022-11-01 00:19:37+00:00          1\n",
       "66534  2022-11-01 00:16:49+00:00          1\n",
       "66535  2022-11-01 00:07:58+00:00          1\n",
       "66536  2022-11-01 00:00:41+00:00          0\n",
       "\n",
       "[66537 rows x 2 columns]"
      ]
     },
     "execution_count": 12,
     "metadata": {},
     "output_type": "execute_result"
    }
   ],
   "source": [
    "final_data = pd.concat([data['Date'].reset_index(drop=True), pd.DataFrame(np.argmax(test_preds_raw, axis=-1), columns=['Sentiment'])], axis=1)\n",
    "final_data"
   ]
  },
  {
   "cell_type": "code",
   "execution_count": 13,
   "metadata": {},
   "outputs": [],
   "source": [
    "final_data.to_csv('2022.csv')"
   ]
  }
 ],
 "metadata": {
  "kernelspec": {
   "display_name": "Python 3 (ipykernel)",
   "language": "python",
   "name": "python3"
  },
  "language_info": {
   "codemirror_mode": {
    "name": "ipython",
    "version": 3
   },
   "file_extension": ".py",
   "mimetype": "text/x-python",
   "name": "python",
   "nbconvert_exporter": "python",
   "pygments_lexer": "ipython3",
   "version": "3.9.12"
  }
 },
 "nbformat": 4,
 "nbformat_minor": 1
}
