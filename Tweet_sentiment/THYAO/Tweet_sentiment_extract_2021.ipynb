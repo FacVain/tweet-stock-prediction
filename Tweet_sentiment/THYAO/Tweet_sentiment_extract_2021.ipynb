{
 "cells": [
  {
   "cell_type": "code",
   "execution_count": 1,
   "metadata": {},
   "outputs": [],
   "source": [
    "import os\n",
    "\n",
    "import pandas as pd\n",
    "from transformers import AutoTokenizer\n",
    "from transformers import AutoModelForSequenceClassification, Trainer\n",
    "import torch\n",
    "from pathlib import Path\n",
    "import numpy as np"
   ]
  },
  {
   "cell_type": "code",
   "execution_count": 2,
   "metadata": {},
   "outputs": [
    {
     "data": {
      "text/plain": [
       "True"
      ]
     },
     "execution_count": 2,
     "metadata": {},
     "output_type": "execute_result"
    }
   ],
   "source": [
    "torch.cuda.is_available()"
   ]
  },
  {
   "cell_type": "code",
   "execution_count": 3,
   "metadata": {},
   "outputs": [],
   "source": [
    "MODEL = '../../Sentiment_Analysis/turkish-sentiment-XMLRoBERTa/2_Label_Twitter/'"
   ]
  },
  {
   "cell_type": "code",
   "execution_count": 4,
   "metadata": {},
   "outputs": [],
   "source": [
    "tokenizer = AutoTokenizer.from_pretrained('cardiffnlp/twitter-xlm-roberta-base', use_fast=True)"
   ]
  },
  {
   "cell_type": "code",
   "execution_count": 5,
   "metadata": {},
   "outputs": [],
   "source": [
    "data = pd.read_csv(f'../../StockAndTweetDataExtract/THYAO/2021/tweet_part0.csv')\n",
    "for i in range(1,6):\n",
    "    data = pd.concat([data, pd.read_csv(f'../../StockAndTweetDataExtract/THYAO/2021/tweet_part{i}.csv')])"
   ]
  },
  {
   "cell_type": "code",
   "execution_count": 6,
   "metadata": {},
   "outputs": [
    {
     "data": {
      "text/html": [
       "<div>\n",
       "<style scoped>\n",
       "    .dataframe tbody tr th:only-of-type {\n",
       "        vertical-align: middle;\n",
       "    }\n",
       "\n",
       "    .dataframe tbody tr th {\n",
       "        vertical-align: top;\n",
       "    }\n",
       "\n",
       "    .dataframe thead th {\n",
       "        text-align: right;\n",
       "    }\n",
       "</style>\n",
       "<table border=\"1\" class=\"dataframe\">\n",
       "  <thead>\n",
       "    <tr style=\"text-align: right;\">\n",
       "      <th></th>\n",
       "      <th>Date</th>\n",
       "      <th>User</th>\n",
       "      <th>Tweet</th>\n",
       "    </tr>\n",
       "  </thead>\n",
       "  <tbody>\n",
       "    <tr>\n",
       "      <th>0</th>\n",
       "      <td>2021-02-28 23:37:48+00:00</td>\n",
       "      <td>guneshakan73</td>\n",
       "      <td>#thyao haftalık dolar bazı şeyleri aramaya ger...</td>\n",
       "    </tr>\n",
       "    <tr>\n",
       "      <th>1</th>\n",
       "      <td>2021-02-28 23:36:26+00:00</td>\n",
       "      <td>bogagrafikleri</td>\n",
       "      <td>#thyao eğitim çalışmasıdır, yatırım tavsiyesi ...</td>\n",
       "    </tr>\n",
       "    <tr>\n",
       "      <th>2</th>\n",
       "      <td>2021-02-28 23:31:03+00:00</td>\n",
       "      <td>ParaBorsaNet</td>\n",
       "      <td>OKAN ÖZDEMİR: ASELS, GARAN VE THYAO GRAFIK ANA...</td>\n",
       "    </tr>\n",
       "    <tr>\n",
       "      <th>3</th>\n",
       "      <td>2021-02-28 23:25:22+00:00</td>\n",
       "      <td>sezgin_akyol</td>\n",
       "      <td>#thyao haftalık (usd) https://t.co/YzqImOZCc9</td>\n",
       "    </tr>\n",
       "    <tr>\n",
       "      <th>4</th>\n",
       "      <td>2021-02-28 23:08:24+00:00</td>\n",
       "      <td>TraderXman</td>\n",
       "      <td>Bu hafta #bist için yön belirleme haftası olac...</td>\n",
       "    </tr>\n",
       "    <tr>\n",
       "      <th>...</th>\n",
       "      <td>...</td>\n",
       "      <td>...</td>\n",
       "      <td>...</td>\n",
       "    </tr>\n",
       "    <tr>\n",
       "      <th>9283</th>\n",
       "      <td>2021-11-01 05:55:07+00:00</td>\n",
       "      <td>nusret254</td>\n",
       "      <td>Günaydın Dostlar\\n\\nEkim ayı toplam kar-zarar'...</td>\n",
       "    </tr>\n",
       "    <tr>\n",
       "      <th>9284</th>\n",
       "      <td>2021-11-01 05:37:36+00:00</td>\n",
       "      <td>DevreKesici</td>\n",
       "      <td>Günaydın arkadaşlar,güzel bir gün geçirmeniz d...</td>\n",
       "    </tr>\n",
       "    <tr>\n",
       "      <th>9285</th>\n",
       "      <td>2021-11-01 05:28:57+00:00</td>\n",
       "      <td>gazetebankacom</td>\n",
       "      <td>Kasım ayının ilk hisse önerileri listesi: ICBC...</td>\n",
       "    </tr>\n",
       "    <tr>\n",
       "      <th>9286</th>\n",
       "      <td>2021-11-01 05:05:16+00:00</td>\n",
       "      <td>TELATBEK</td>\n",
       "      <td>#kords. #mavı. #thyao. #ykbnk. Günlük teknik a...</td>\n",
       "    </tr>\n",
       "    <tr>\n",
       "      <th>9287</th>\n",
       "      <td>2021-11-01 04:24:34+00:00</td>\n",
       "      <td>borsa_deli</td>\n",
       "      <td>AYRICA BU HAFTA HAVAYOLLARI HİSSELERİNDE HAREK...</td>\n",
       "    </tr>\n",
       "  </tbody>\n",
       "</table>\n",
       "<p>61458 rows × 3 columns</p>\n",
       "</div>"
      ],
      "text/plain": [
       "                           Date            User  \\\n",
       "0     2021-02-28 23:37:48+00:00    guneshakan73   \n",
       "1     2021-02-28 23:36:26+00:00  bogagrafikleri   \n",
       "2     2021-02-28 23:31:03+00:00    ParaBorsaNet   \n",
       "3     2021-02-28 23:25:22+00:00    sezgin_akyol   \n",
       "4     2021-02-28 23:08:24+00:00      TraderXman   \n",
       "...                         ...             ...   \n",
       "9283  2021-11-01 05:55:07+00:00       nusret254   \n",
       "9284  2021-11-01 05:37:36+00:00     DevreKesici   \n",
       "9285  2021-11-01 05:28:57+00:00  gazetebankacom   \n",
       "9286  2021-11-01 05:05:16+00:00        TELATBEK   \n",
       "9287  2021-11-01 04:24:34+00:00      borsa_deli   \n",
       "\n",
       "                                                  Tweet  \n",
       "0     #thyao haftalık dolar bazı şeyleri aramaya ger...  \n",
       "1     #thyao eğitim çalışmasıdır, yatırım tavsiyesi ...  \n",
       "2     OKAN ÖZDEMİR: ASELS, GARAN VE THYAO GRAFIK ANA...  \n",
       "3         #thyao haftalık (usd) https://t.co/YzqImOZCc9  \n",
       "4     Bu hafta #bist için yön belirleme haftası olac...  \n",
       "...                                                 ...  \n",
       "9283  Günaydın Dostlar\\n\\nEkim ayı toplam kar-zarar'...  \n",
       "9284  Günaydın arkadaşlar,güzel bir gün geçirmeniz d...  \n",
       "9285  Kasım ayının ilk hisse önerileri listesi: ICBC...  \n",
       "9286  #kords. #mavı. #thyao. #ykbnk. Günlük teknik a...  \n",
       "9287  AYRICA BU HAFTA HAVAYOLLARI HİSSELERİNDE HAREK...  \n",
       "\n",
       "[61458 rows x 3 columns]"
      ]
     },
     "execution_count": 6,
     "metadata": {},
     "output_type": "execute_result"
    }
   ],
   "source": [
    "data.drop_duplicates(subset=['Tweet'])\n",
    "data"
   ]
  },
  {
   "cell_type": "code",
   "execution_count": 7,
   "metadata": {},
   "outputs": [
    {
     "data": {
      "text/plain": [
       "0       [input_ids, attention_mask]\n",
       "1       [input_ids, attention_mask]\n",
       "2       [input_ids, attention_mask]\n",
       "3       [input_ids, attention_mask]\n",
       "4       [input_ids, attention_mask]\n",
       "                   ...             \n",
       "9283    [input_ids, attention_mask]\n",
       "9284    [input_ids, attention_mask]\n",
       "9285    [input_ids, attention_mask]\n",
       "9286    [input_ids, attention_mask]\n",
       "9287    [input_ids, attention_mask]\n",
       "Name: Tweet, Length: 61458, dtype: object"
      ]
     },
     "execution_count": 7,
     "metadata": {},
     "output_type": "execute_result"
    }
   ],
   "source": [
    "data_p = data.Tweet.apply(lambda x: tokenizer(x, truncation=True, padding='max_length', max_length=256))\n",
    "data_p"
   ]
  },
  {
   "cell_type": "code",
   "execution_count": 8,
   "metadata": {},
   "outputs": [],
   "source": [
    "data['Tweet'] = data_p\n",
    "data_p = 0"
   ]
  },
  {
   "cell_type": "code",
   "execution_count": 9,
   "metadata": {},
   "outputs": [],
   "source": [
    "model = AutoModelForSequenceClassification.from_pretrained(MODEL, num_labels=2)\n",
    "classifier = Trainer(model)"
   ]
  },
  {
   "cell_type": "code",
   "execution_count": 10,
   "metadata": {},
   "outputs": [],
   "source": [
    "class MyDataset(torch.utils.data.Dataset):\n",
    "    def __init__(self, encodings):\n",
    "        self.encodings = encodings['Tweet']\n",
    "\n",
    "    def __getitem__(self, idx):\n",
    "        item = {\"input_ids\": torch.tensor(self.encodings.iloc[idx][\"input_ids\"])}\n",
    "        item['attention_mask'] = torch.tensor(self.encodings.iloc[idx][\"attention_mask\"])\n",
    "        return item\n",
    "\n",
    "    def __len__(self):\n",
    "        return len(self.encodings)\n",
    "\n",
    "dataset = MyDataset(data)"
   ]
  },
  {
   "cell_type": "code",
   "execution_count": 11,
   "metadata": {},
   "outputs": [
    {
     "name": "stderr",
     "output_type": "stream",
     "text": [
      "***** Running Prediction *****\n",
      "  Num examples = 61458\n",
      "  Batch size = 8\n"
     ]
    },
    {
     "data": {
      "text/html": [],
      "text/plain": [
       "<IPython.core.display.HTML object>"
      ]
     },
     "metadata": {},
     "output_type": "display_data"
    }
   ],
   "source": [
    "test_preds_raw, test_labels , _ = classifier.predict(dataset)"
   ]
  },
  {
   "cell_type": "code",
   "execution_count": 12,
   "metadata": {},
   "outputs": [
    {
     "data": {
      "text/html": [
       "<div>\n",
       "<style scoped>\n",
       "    .dataframe tbody tr th:only-of-type {\n",
       "        vertical-align: middle;\n",
       "    }\n",
       "\n",
       "    .dataframe tbody tr th {\n",
       "        vertical-align: top;\n",
       "    }\n",
       "\n",
       "    .dataframe thead th {\n",
       "        text-align: right;\n",
       "    }\n",
       "</style>\n",
       "<table border=\"1\" class=\"dataframe\">\n",
       "  <thead>\n",
       "    <tr style=\"text-align: right;\">\n",
       "      <th></th>\n",
       "      <th>Date</th>\n",
       "      <th>Sentiment</th>\n",
       "    </tr>\n",
       "  </thead>\n",
       "  <tbody>\n",
       "    <tr>\n",
       "      <th>0</th>\n",
       "      <td>2021-02-28 23:37:48+00:00</td>\n",
       "      <td>0</td>\n",
       "    </tr>\n",
       "    <tr>\n",
       "      <th>1</th>\n",
       "      <td>2021-02-28 23:36:26+00:00</td>\n",
       "      <td>0</td>\n",
       "    </tr>\n",
       "    <tr>\n",
       "      <th>2</th>\n",
       "      <td>2021-02-28 23:31:03+00:00</td>\n",
       "      <td>1</td>\n",
       "    </tr>\n",
       "    <tr>\n",
       "      <th>3</th>\n",
       "      <td>2021-02-28 23:25:22+00:00</td>\n",
       "      <td>1</td>\n",
       "    </tr>\n",
       "    <tr>\n",
       "      <th>4</th>\n",
       "      <td>2021-02-28 23:08:24+00:00</td>\n",
       "      <td>1</td>\n",
       "    </tr>\n",
       "    <tr>\n",
       "      <th>...</th>\n",
       "      <td>...</td>\n",
       "      <td>...</td>\n",
       "    </tr>\n",
       "    <tr>\n",
       "      <th>61453</th>\n",
       "      <td>2021-11-01 05:55:07+00:00</td>\n",
       "      <td>1</td>\n",
       "    </tr>\n",
       "    <tr>\n",
       "      <th>61454</th>\n",
       "      <td>2021-11-01 05:37:36+00:00</td>\n",
       "      <td>1</td>\n",
       "    </tr>\n",
       "    <tr>\n",
       "      <th>61455</th>\n",
       "      <td>2021-11-01 05:28:57+00:00</td>\n",
       "      <td>1</td>\n",
       "    </tr>\n",
       "    <tr>\n",
       "      <th>61456</th>\n",
       "      <td>2021-11-01 05:05:16+00:00</td>\n",
       "      <td>1</td>\n",
       "    </tr>\n",
       "    <tr>\n",
       "      <th>61457</th>\n",
       "      <td>2021-11-01 04:24:34+00:00</td>\n",
       "      <td>1</td>\n",
       "    </tr>\n",
       "  </tbody>\n",
       "</table>\n",
       "<p>61458 rows × 2 columns</p>\n",
       "</div>"
      ],
      "text/plain": [
       "                            Date  Sentiment\n",
       "0      2021-02-28 23:37:48+00:00          0\n",
       "1      2021-02-28 23:36:26+00:00          0\n",
       "2      2021-02-28 23:31:03+00:00          1\n",
       "3      2021-02-28 23:25:22+00:00          1\n",
       "4      2021-02-28 23:08:24+00:00          1\n",
       "...                          ...        ...\n",
       "61453  2021-11-01 05:55:07+00:00          1\n",
       "61454  2021-11-01 05:37:36+00:00          1\n",
       "61455  2021-11-01 05:28:57+00:00          1\n",
       "61456  2021-11-01 05:05:16+00:00          1\n",
       "61457  2021-11-01 04:24:34+00:00          1\n",
       "\n",
       "[61458 rows x 2 columns]"
      ]
     },
     "execution_count": 12,
     "metadata": {},
     "output_type": "execute_result"
    }
   ],
   "source": [
    "final_data = pd.concat([data['Date'].reset_index(drop=True), pd.DataFrame(np.argmax(test_preds_raw, axis=-1), columns=['Sentiment'])], axis=1)\n",
    "final_data"
   ]
  },
  {
   "cell_type": "code",
   "execution_count": 13,
   "metadata": {},
   "outputs": [],
   "source": [
    "final_data.to_csv('2021.csv')"
   ]
  }
 ],
 "metadata": {
  "kernelspec": {
   "display_name": "Python 3 (ipykernel)",
   "language": "python",
   "name": "python3"
  },
  "language_info": {
   "codemirror_mode": {
    "name": "ipython",
    "version": 3
   },
   "file_extension": ".py",
   "mimetype": "text/x-python",
   "name": "python",
   "nbconvert_exporter": "python",
   "pygments_lexer": "ipython3",
   "version": "3.9.12"
  }
 },
 "nbformat": 4,
 "nbformat_minor": 1
}
